{
 "cells": [
  {
   "cell_type": "markdown",
   "id": "2dbd38d0-fbf4-4e9d-8253-4f549f7e052e",
   "metadata": {},
   "source": [
    "# 1 Introduction\n",
    "## 1-1 Quantum State Preparation\n",
    "Quantum state preparation is fundamental to quantum computing. It lies at the heart of quantum algorithms, quantum machine learning, quantum error correction, and quantum physics research, but it can be very difficult to start from an initial state $|0\\dots 0 \\rangle$ and efficiently prepare an arbitrary state $|\\psi \\rangle$ with high fidelity. Your objective for this year's Open Science Prize is to significantly improve state-of-the-art state preparation in the context of the Variational Quantum Eigensolver (VQE) algorithm.\n",
    "\n",
    "The state you will prepare is the highly entangled ground state of a Heisenberg spin-1/2 model on a kagome lattice. That sentence is jam packed with physics jargon, but do not despair. Though the problem statement originates deep within quantum physics research, we will avoid jargon as much as possible. A deep dive into the physics literature (which is very fascinating) is left as an exercise for the reader.\n",
    "\n",
    "Why the ground state of a Heisenberg model? Well, the ground state of a system is it's lowest energy configuration, and the ground state tends to be where exciting and unexpected quantum affects flourish. For example, when the element Mercury is cooled down near its ground state (below 4 Kelvin), it has no electrical resistance. None. Zero! Near its thermal ground state, a chunk of Mercury is [a superconductor](https://en.wikipedia.org/wiki/History_of_superconductivity). Researchers have been trying to understand what materials exhibit superconductivity and how it's even possible ever since it was first discovered. If that isn't cool enough for you, consider the [Bose-Einstein condensate](https://en.wikipedia.org/wiki/Bose–Einstein_condensate). This is quantum phase of matter where a dilute gas of individual atoms (bosonic atoms such as [Rubidium](https://en.wikipedia.org/wiki/Rubidium))--when cooled to their ground state--effectively become one giant particle!\n",
    "\n",
    "A system's ground state determines important and fascinating physical properties (see the two examples highlighted above), yet some quantum systems have ground states (and their associated energies) which are difficult to make and measure in the lab as well as being intractable for classical computers to calculate. The Variational Quantum Eigensolver (VQE) is a promising quantum algorithm that could find these ground states and their energies.\n",
    "\n",
    "You will implement the VQE algorithm on [ibmq_guadalupe](https://quantum-computing.ibm.com/services/resources?system=ibmq_guadalupe) a 16 qubit [heavy-hex](https://research.ibm.com/blog/heavy-hex-lattice) device. This is the largest device used in an Open Science Prize to date. Working with more qubits presents its own challenges. Be mindful of how your solution scales as this will be part of the judging criteria this year.\n",
    "\n",
    "We'll get more into the principles of VQE later, but for now, remember that VQE relies on iterative cycles of quantum and classical computation. Fast iterations and fast communication between the classical and quantum computer are essential for a fast VQE, and [Qiskit runtime](https://github.com/Qiskit/qiskit-ibm-runtime) does just that. [Qiskit runtime](https://medium.com/qiskit/so-what-is-qiskit-runtime-anyway-c78aecf3742) is a programming model and containerized environment designed to reduce the computational cycle time between quantum and classical computers. Later in this notebook, we will demonstrate how to leverage the latest release of runtime for fast VQE.\n",
    "\n",
    "The notebook is organized as follows: Section 1 gives a brief introduction to the Heisenberg model, the kagome lattice, and VQE algorithm. It also provides a classical calculation of the ground state(s) energy. Section 2 introduces how to construct a VQE experiment and simulate it on your local computer. Section 3 introduces Qiskit runtime and how to run VQE on a cloud simulator or real backend. Finally, if you are feeling stuck, we've provided some questions to consider as you design and implement your solution.\n",
    "\n",
    "#### Objective\n",
    "**Your task is to use the VQE algorithm to compute the ground state of a Heisenberg spin-1/2 system on a kagome lattice unit cell with the lowest possible relative error of the measured state's energy expectation value wrt to the exact value.** There are actually two ground states in this specific case, and you may prepare any combination of the two including only one or the other.\n"
   ]
  },
  {
   "cell_type": "markdown",
   "id": "446e775d-5c57-447e-9c93-84c70509a64a",
   "metadata": {},
   "source": [
    "## 1-2 Heisenberg spin-1/2 model on the kagome lattice\n",
    "For the Open Science Prize, (get ready for some jargon) you will work with the antiferromagnetic $XXX$ Heisenberg model arranged on a kagome lattice. The $XXX$ Heisenberg model Hamiltonian for this Prize will be defined as\n",
    "$$\n",
    "\\begin{equation}\n",
    "H = \\sum_{\\langle i j \\rangle}^N X_i X_{j} + Y_i Y_{j} + Z_i Z_{j}\n",
    "\\end{equation}\n",
    "$$\n",
    "where $\\langle i j \\rangle$ is sum over neighboring spins and $X$, $Y$, and $Z$ are the usual Pauli matrices. The Heisenberg model hosts a wide variety of exotic quantum physics all of which heavily depend on the arrangement of the spins. The arrangement we are interested in is a kagome lattice.\n",
    "\n",
    "![title](kagome_unit_cell.png)\n",
    "\n",
    "The kagome lattice is a unique lattice structure made up of corner-sharing triangles (see the unit cell above). In general, the kagome lattice (i.e. many unit cells tiled together) is theorized to host a fascinating quantum phase of matter called a quantum spin liquid--a research topic at the forefront of quantum physics [1-3]. Additionally, excitations from that ground state are theorized to show exotic quantum behavior such a fractionalized particle excitations [1-3]. For those interested in a deeper dive into the physics check out Refs. [1-3] and other papers.\n",
    "\n",
    "This year's Prize will focus on a single unit cell (the base pattern shown above) which has 12 spin-1/2 particles represented in as blue dots in the image below. Each spin will be represented by a single qubit. The lines connecting the spin-1/2 particles called edges--borrowing a term from [graph theory](https://en.wikipedia.org/wiki/Graph_theory)--and they specify which spins are neighbors.\n",
    "\n",
    "\\[1\\] \"Modern condensed matter physics.\" Girvin, Steven M., and Kun Yang. Cambridge University Press, (2019).\n",
    "\n",
    "\\[2\\] \"Spin liquids in frustrated magnets.\" Balents, Leon. [Nature 464, 199–208](https://doi.org/10.1038/nature08917) (2010). \n",
    "\n",
    "\\[3\\] \"Probing topological spin liquids on a programmable quantum simulator.\" Semeghini, Giulia, et al. [Science 374.6572: 1242-1247.](https://www.science.org/doi/10.1126/science.abi8794) (2021). [arXiv link](https://arxiv.org/abs/2104.04119)\n",
    "\n",
    "\\[4\\] \"Kagome: The Story of the Basketweave Lattice.\" Mekata, Mamoru. [Physics Today 56, 2, 12](https://physicstoday.scitation.org/doi/10.1063/1.1564329) (2003)."
   ]
  },
  {
   "cell_type": "markdown",
   "id": "4af4910d-a71a-47ac-8953-20cda5d5c04f",
   "metadata": {},
   "source": [
    "## 1-3 VQE\n",
    "The Variational Quantum Eigensolver (VQE) is a quantum algorithm that can find the ground state(s) of a given Hamiltonian [5-7]. The VQE algorithm is based on the [variational principle](https://en.wikipedia.org/wiki/Variational_method_(quantum_mechanics)) of quantum mechanics and relies on both quantum and classical computations. Below, we briefly sketch out the main principles of VQE, and encourage you to review educational material and the research literature for details.\n",
    "\n",
    "Given a Hamiltonian $H$ and ground state $|\\psi_g \\rangle$, the variational principle says that even if we don't know the exact ground state an approximate ground state $|\\tilde{ \\psi}_g\\rangle \\approx |\\psi_g \\rangle$ can be found. To find the approximate ground state $|\\tilde{ \\psi}_g\\rangle$, we start with a parameterized state called an ansatz $|\\psi(\\boldsymbol{\\theta})\\rangle$ where $\\boldsymbol{\\theta} \\equiv (\\theta_1, \\theta_2,\\dots)$ are the parameters. In theory, there is a combination of parameter values where the anstaz approximates the ground state $|\\psi(\\boldsymbol{\\theta})\\rangle \\approx |\\psi_g\\rangle$, but we need a way to find those parameter values. This is done with a combination of quantum and classical computing.\n",
    "\n",
    "To optimize the parameters, many cycles of quantum and classical computing drive the ansatz toward the approximate ground state. The quantum computer computes the energy expectation value of Hamiltonian $H$ acting on the the parameterized anstaz for a given set of parameter values\n",
    "$$\n",
    "E(\\boldsymbol{\\theta}) = \\langle \\psi(\\boldsymbol{\\theta}) | H | \\psi(\\boldsymbol{\\theta}) \\rangle \\;.\n",
    "$$\n",
    "For those familiar with optimization terminology this is the cost function. A classical computer uses the measurement data from the quantum computer to determine how the parameters values should be adjusted to further minimize the energy $E(\\boldsymbol{\\theta})$. As the classical and quantum computer loop through many iterations, they search the parameter space and converge to the approximate ground state.\n",
    "\n",
    "How can we know the state that gives the minimum energy expectation value is the ground state? The variation principle guarantees that the minimal energy expectation value can only be achieved if the quantum state is the ground state. No other state can give a lower energy--hence the name ground state. In this way, we can be confident that minimizing $E(\\boldsymbol{\\theta})$ with respect to the parameters $\\boldsymbol{\\theta}$ will drive the ansatz toward an accurate approximation of the true ground state and not some other state.\n",
    "\n",
    "Of course, the actual implementation of the algorithm comes with challenges. The ansatz $|\\psi(\\boldsymbol{\\theta})\\rangle$ may never reach the ground state for any combination of parameters. The ansatz could have too many parameters and encounter a barren plateau during optimization. When implementing the VQE, it may take an unreasonable amount of time to execute the ansatz or measure the expectation value on quantum hardware. The quantum hardware may be too noisy. The classical optimizer may not pair well with the optimization landscape or the level of noise from the quantum measurements. Etc.\n",
    "\n",
    "To jump into more details about VQE, we included three review articles on the topic below. We encourage you to review additional educational material and research literature as you work out your solution.\n",
    "\n",
    "\\[5\\] \"A variational eigenvalue solver on a quantum processor.\" A. Peruzzo, et al. [arXiv:1304.3061](https://arxiv.org/abs/1304.3061) [quant-ph] (2013).\n",
    "\n",
    "\\[6\\] \"Variational quantum algorithms.\" M. Cerezo, et al. [arXiv:2012.09265v2](https://arxiv.org/abs/2012.09265v2) [quant-ph] (2021).\n",
    "\n",
    "\\[7\\] \"The Variational Quantum Eigensolver: a review of methods and best practices.\" J. Tilly, et al. [arXiv:2111.05176v3](https://arxiv.org/abs/2111.05176v3) [quant-ph] (2022).\n"
   ]
  },
  {
   "cell_type": "code",
   "execution_count": 1,
   "id": "fb3b2e13-9651-49eb-9f8a-0012d3fb21ed",
   "metadata": {
    "tags": []
   },
   "outputs": [],
   "source": [
    "import numpy as np\n",
    "\n",
    "from time import time\n",
    "\n",
    "import matplotlib.pyplot as plt\n",
    "plt.rcParams.update({\"font.size\": 16})  # enlarge matplotlib fonts"
   ]
  },
  {
   "cell_type": "markdown",
   "id": "23557032",
   "metadata": {},
   "source": [
    "## 1-4 Classical computation of ground state energy\n",
    "The twelve qubit state space isn't terribly large $2^{12} = 4096$, but it also isn't small. A classical computer can still diagonalize the Hamiltonian and thus compute the ground state and its associated energy. For the Open Science Prize, we don't need a full energy spectrum, just a calculation of the ground state energy. When working on your solution, remember that brute force approaches that work on 5 or 7-qubit devices may not work as well with ibmq_guadalupe's 16 qubits.\n",
    "\n",
    "Below is an example classical calculation of the ground state energy. It will be used as a reference to your VQE results. First, the kagome lattice is defined on a graph. Second, we built the Hamiltonian from the graph edges. Finally, the expected ground state energy is calculated.\n",
    "\n",
    "### Qiskit nature kagome unit cell\n",
    "Using Qiskit nature's [`Lattice` object](https://qiskit.org/documentation/nature/tutorials/10_lattice_models.html), we can represent any spin lattice as a graph. Here we construct the unit cell of a kagome lattice by defining a list of edges between the twelve sites. This `Lattice` representation will be convenient to use when defining the $XXX$ Hamiltonian terms."
   ]
  },
  {
   "cell_type": "code",
   "execution_count": 2,
   "id": "2eaabd1c-cb34-4953-a46e-f10d13d3b3ee",
   "metadata": {
    "tags": []
   },
   "outputs": [],
   "source": [
    "# Modifed from the Ising model found here: https://qiskit.org/documentation/nature/_modules/qiskit_nature/problems/second_quantization/lattice/models/ising_model.html#IsingModel\n",
    "\n",
    "\"\"\"The Heisenberg model\"\"\"\n",
    "import logging\n",
    "import numpy as np\n",
    "from fractions import Fraction\n",
    "from typing import Optional\n",
    "\n",
    "from qiskit_nature.operators.second_quantization import SpinOp\n",
    "from qiskit_nature.problems.second_quantization.lattice.lattices import Lattice\n",
    "from qiskit_nature.problems.second_quantization.lattice.models.lattice_model import LatticeModel\n",
    "\n",
    "class HeisenbergModel(LatticeModel):\n",
    "    \"\"\"The Heisenberg model.\"\"\"\n",
    "\n",
    "    def coupling_matrix(self) -> np.ndarray:\n",
    "        \"\"\"Return the coupling matrix.\"\"\"\n",
    "        return self.interaction_matrix()\n",
    "\n",
    "\n",
    "    @classmethod\n",
    "    def uniform_parameters(\n",
    "        cls,\n",
    "        lattice: Lattice,\n",
    "        uniform_interaction: complex,\n",
    "        uniform_onsite_potential: complex,\n",
    "    ) -> \"HeisenbergModel\":\n",
    "        \"\"\"Set a uniform interaction parameter and on-site potential over the input lattice.\n",
    "\n",
    "        Args:\n",
    "            lattice: Lattice on which the model is defined.\n",
    "            uniform_interaction: The interaction parameter.\n",
    "            uniform_onsite_potential: The on-site potential.\n",
    "\n",
    "        Returns:\n",
    "            The Lattice model with uniform parameters.\n",
    "        \"\"\"\n",
    "        return cls(\n",
    "            cls._generate_lattice_from_uniform_parameters(\n",
    "                lattice, uniform_interaction, uniform_onsite_potential\n",
    "            )\n",
    "        )\n",
    "\n",
    "\n",
    "    @classmethod\n",
    "    def from_parameters(\n",
    "        cls,\n",
    "        interaction_matrix: np.ndarray,\n",
    "    ) -> \"HeisenbergModel\":\n",
    "        \"\"\"Return the Hamiltonian of the Lattice model\n",
    "        from the given interaction matrix and on-site interaction.\n",
    "\n",
    "        Args:\n",
    "            interaction_matrix: A real or complex valued square matrix.\n",
    "\n",
    "        Returns:\n",
    "            LatticeModel: The Lattice model generated from the given interaction\n",
    "                matrix and on-site interaction.\n",
    "\n",
    "        Raises:\n",
    "            ValueError: If the interaction matrix is not square matrix, it is invalid.\n",
    "        \"\"\"\n",
    "        return cls(cls._generate_lattice_from_parameters(interaction_matrix))\n",
    "\n",
    "\n",
    "    def second_q_ops(self, display_format: Optional[str] = None) -> SpinOp:\n",
    "        \"\"\"Return the Hamiltonian of the Heisenberg model in terms of `SpinOp`.\n",
    "\n",
    "        Args:\n",
    "            display_format: Not supported for Spin operators. If specified, it will be ignored.\n",
    "\n",
    "        Returns:\n",
    "            SpinOp: The Hamiltonian of the Heisenberg model.\n",
    "        \"\"\"\n",
    "        if display_format is not None:\n",
    "            logger.warning(\n",
    "                \"Spin operators do not support display-format. Provided display-format \"\n",
    "                \"parameter will be ignored.\"\n",
    "            )\n",
    "        ham = []\n",
    "        weighted_edge_list = self._lattice.weighted_edge_list\n",
    "        register_length = self._lattice.num_nodes\n",
    "        # kinetic terms\n",
    "        for node_a, node_b, weight in weighted_edge_list:\n",
    "            if node_a == node_b:\n",
    "                index = node_a\n",
    "                ham.append((f\"X_{index}\", weight))\n",
    "\n",
    "            else:\n",
    "                index_left = node_a\n",
    "                index_right = node_b\n",
    "                coupling_parameter = weight\n",
    "                ham.append((f\"X_{index_left} X_{index_right}\", coupling_parameter))\n",
    "                ham.append((f\"Y_{index_left} Y_{index_right}\", coupling_parameter))\n",
    "                ham.append((f\"Z_{index_left} Z_{index_right}\", coupling_parameter))\n",
    "        return SpinOp(ham, spin=Fraction(1, 2), register_length=register_length)"
   ]
  },
  {
   "cell_type": "code",
   "execution_count": 3,
   "id": "3565f61a-2fa8-4af8-83d9-5a8c8679ccf7",
   "metadata": {
    "tags": []
   },
   "outputs": [],
   "source": [
    "import rustworkx as rx\n",
    "\n",
    "from qiskit_nature.problems.second_quantization.lattice import Lattice\n",
    "\n",
    "# Custom Heisenberg couplings\n",
    "import sys\n",
    "sys.path.append(r'.')  # may be needed if running notebook on a cloud service\n",
    "#from heisenberg_model import HeisenbergModel"
   ]
  },
  {
   "cell_type": "code",
   "execution_count": 4,
   "id": "5839d6d3-ee8a-4d01-9af4-e654ae915778",
   "metadata": {
    "tags": []
   },
   "outputs": [
    {
     "data": {
      "image/png": "[encoded data removed]",
      "text/plain": [
       "<Figure size 640x480 with 1 Axes>"
      ]
     },
     "metadata": {},
     "output_type": "display_data"
    }
   ],
   "source": [
    "# Kagome unit cell\n",
    "num_sites = 12\n",
    "# Edge weight\n",
    "t = 1.0\n",
    "\n",
    "# Generate graph of kagome unit cell\n",
    "# Start by defining all the edges\n",
    "graph = rx.PyGraph(multigraph=False)\n",
    "graph.add_nodes_from(range(num_sites))\n",
    "edge_list = [\n",
    "    (0, 1, t),\n",
    "    (1, 2, t),\n",
    "    (2, 3, t),\n",
    "    (3, 4, t),\n",
    "    (4, 5, t),\n",
    "    (5, 0, t),\n",
    "    (0, 6, t),\n",
    "    (1, 6, t),\n",
    "    (1, 7, t),\n",
    "    (2, 7, t),\n",
    "    (2, 8, t),\n",
    "    (3, 8, t),\n",
    "    (3, 9, t),\n",
    "    (4, 9, t),\n",
    "    (4, 10, t),\n",
    "    (5, 10, t),\n",
    "    (5, 11, t),\n",
    "    (0, 11, t),\n",
    "]\n",
    "# Generate graph from the list of edges\n",
    "graph.add_edges_from(edge_list)\n",
    "\n",
    "# Make a Lattice from graph\n",
    "kagome_unit_cell = Lattice(graph)\n",
    "\n",
    "# Draw Lattice\n",
    "kagome_unit_cell.draw(style={'node_color':'purple'})\n",
    "# plt.savefig('kagome_unit_cell.png')\n",
    "plt.show()"
   ]
  },
  {
   "cell_type": "markdown",
   "id": "77e7a794-04c3-48f7-aa62-1f020c241282",
   "metadata": {},
   "source": [
    "Now that we have the lattice geometry, we can place each term in the Hamiltonian on its corresponding edge. This is done by using the custom `HeisenbergModel` found in the heisenberg_model.py file. This model is based on Qiskit Nature's [`IsingModel` class](https://qiskit.org/documentation/nature/stubs/qiskit_nature.second_q.hamiltonians.IsingModel.html) . It places $XX + YY + ZZ$ on each edge of the lattice (per the Hamiltonian's definition).\n",
    "\n",
    "We will also need to specify how the spin-1/2 particles map to qubits. Using Qiskit nature's `LogarithmicMapper`, we can map each spin-1/2 site to a single qubit. For more information on Qiskit nature's spin mappings see [here](https://qiskit.org/documentation/nature/stubs/qiskit_nature.second_q.mappers.SpinMapper.html#spinmapper)."
   ]
  },
  {
   "cell_type": "code",
   "execution_count": 5,
   "id": "b63edd90-b02d-4c6b-8d9d-3692e05feec4",
   "metadata": {
    "tags": []
   },
   "outputs": [],
   "source": [
    "from qiskit_nature.mappers.second_quantization import LogarithmicMapper"
   ]
  },
  {
   "cell_type": "code",
   "execution_count": 6,
   "id": "2d0f1fa1-ad52-4c82-bc10-b971b227b8ec",
   "metadata": {
    "tags": []
   },
   "outputs": [
    {
     "data": {
      "text/plain": [
       "PauliSumOp(SparsePauliOp(['ZIIIIIZIIIII', 'IZIIIIZIIIII', 'IZIIIIIZIIII', 'IIZIIIIZIIII', 'IIIIIIZZIIII', 'IIZIIIIIZIII', 'IIIZIIIIZIII', 'IIIIIIIZZIII', 'IIIZIIIIIZII', 'IIIIZIIIIZII', 'IIIIIIIIZZII', 'IIIIZIIIIIZI', 'IIIIIZIIIIZI', 'IIIIIIIIIZZI', 'ZIIIIIIIIIIZ', 'IIIIIZIIIIIZ', 'IIIIIIZIIIIZ', 'IIIIIIIIIIZZ', 'YIIIIIYIIIII', 'IYIIIIYIIIII', 'IYIIIIIYIIII', 'IIYIIIIYIIII', 'IIIIIIYYIIII', 'IIYIIIIIYIII', 'IIIYIIIIYIII', 'IIIIIIIYYIII', 'IIIYIIIIIYII', 'IIIIYIIIIYII', 'IIIIIIIIYYII', 'IIIIYIIIIIYI', 'IIIIIYIIIIYI', 'IIIIIIIIIYYI', 'YIIIIIIIIIIY', 'IIIIIYIIIIIY', 'IIIIIIYIIIIY', 'IIIIIIIIIIYY', 'XIIIIIXIIIII', 'IXIIIIXIIIII', 'IXIIIIIXIIII', 'IIXIIIIXIIII', 'IIIIIIXXIIII', 'IIXIIIIIXIII', 'IIIXIIIIXIII', 'IIIIIIIXXIII', 'IIIXIIIIIXII', 'IIIIXIIIIXII', 'IIIIIIIIXXII', 'IIIIXIIIIIXI', 'IIIIIXIIIIXI', 'IIIIIIIIIXXI', 'XIIIIIIIIIIX', 'IIIIIXIIIIIX', 'IIIIIIXIIIIX', 'IIIIIIIIIIXX'],\n",
       "              coeffs=[1.+0.j, 1.+0.j, 1.+0.j, 1.+0.j, 1.+0.j, 1.+0.j, 1.+0.j, 1.+0.j, 1.+0.j,\n",
       " 1.+0.j, 1.+0.j, 1.+0.j, 1.+0.j, 1.+0.j, 1.+0.j, 1.+0.j, 1.+0.j, 1.+0.j,\n",
       " 1.+0.j, 1.+0.j, 1.+0.j, 1.+0.j, 1.+0.j, 1.+0.j, 1.+0.j, 1.+0.j, 1.+0.j,\n",
       " 1.+0.j, 1.+0.j, 1.+0.j, 1.+0.j, 1.+0.j, 1.+0.j, 1.+0.j, 1.+0.j, 1.+0.j,\n",
       " 1.+0.j, 1.+0.j, 1.+0.j, 1.+0.j, 1.+0.j, 1.+0.j, 1.+0.j, 1.+0.j, 1.+0.j,\n",
       " 1.+0.j, 1.+0.j, 1.+0.j, 1.+0.j, 1.+0.j, 1.+0.j, 1.+0.j, 1.+0.j, 1.+0.j]), coeff=1)"
      ]
     },
     "execution_count": 6,
     "metadata": {},
     "output_type": "execute_result"
    }
   ],
   "source": [
    "# Build Hamiltonian from graph edges\n",
    "heis = HeisenbergModel.uniform_parameters(\n",
    "    lattice=kagome_unit_cell,\n",
    "    uniform_interaction=1.0,  # same spin-spin interaction weight as used in graph\n",
    "    uniform_onsite_potential=0.0,  # No singe site external field\n",
    ")\n",
    "\n",
    "# The Lattice needs an explicit mapping to the qubit states.\n",
    "# We map 1 qubit for 1 spin-1/2 particle using the LogarithmicMapper\n",
    "log_mapper = LogarithmicMapper()\n",
    "# Multiply by factor of 4 to account for (1/2)^2 terms from spin operators in the HeisenbergModel\n",
    "ham = 4 * log_mapper.map(heis.second_q_ops().simplify())\n",
    "# Print Hamiltonian to check it's what we expect.\n",
    "# There are 18 edges and 3 terms per edge (XX, YY, and ZZ),\n",
    "# so there should be 54 equally weighted terms.\n",
    "ham"
   ]
  },
  {
   "cell_type": "markdown",
   "id": "e7c2fe6a-98c3-413d-8ee5-ab635184da80",
   "metadata": {},
   "source": [
    "### Compute ground state energy\n",
    "With the Hamiltonian in hand, we can now calculate the expected ground state and its energy. Qiskit offers different methods to do this. The method [here](https://qiskit.org/documentation/apidoc/algorithms.html#minimum-eigensolvers) computes the ground state energy. This [method](https://qiskit.org/documentation/apidoc/algorithms.html#eigensolvers) computes the ground state ($k=0$) and potentially higher energy states if the users wishes ($k>0$).\n",
    "\n",
    "Below is an example calculation of finding the lowest 3 energies ($k=3$) of the system using the second method. Remember that for this year's Prize, you will only need to use VQE to find the ground state energy and not any excited state energies."
   ]
  },
  {
   "cell_type": "code",
   "execution_count": 7,
   "id": "f7bf1d65-0883-4180-985c-bfa88b47e334",
   "metadata": {
    "tags": []
   },
   "outputs": [
    {
     "name": "stdout",
     "output_type": "stream",
     "text": [
      "[-18.         -18.         -16.96132284]\n"
     ]
    }
   ],
   "source": [
    "from qiskit.algorithms import NumPyEigensolver\n",
    "\n",
    "# find the first three (k=3) eigenvalues\n",
    "exact_solver = NumPyEigensolver(k=3)\n",
    "exact_result = exact_solver.compute_eigenvalues(ham)\n",
    "print(exact_result.eigenvalues)\n",
    "\n",
    "# Save ground state energy for later\n",
    "gs_energy = np.round(exact_result.eigenvalues[0], 4)"
   ]
  },
  {
   "cell_type": "markdown",
   "id": "5148f389-84b9-4608-bde5-d1151e45fdec",
   "metadata": {},
   "source": [
    "You'll note that -18 is found twice. This means there are actually two ground states for this system. The -16.96 energy is the first excited state, which is not part of this year's challenge. **For this year's Prize, we will only be judging based off the measured ground state energy. This means it does not matter which of the two ground states, or combination of them, your VQE implementation finds.**"
   ]
  },
  {
   "cell_type": "markdown",
   "id": "b7dc18ef-d6b7-4594-b7ea-a93f922f9997",
   "metadata": {},
   "source": [
    "## 2-1 VQE with local runtime primitives\n",
    "\n",
    "To compute the ground state energy using VQE, we first pick an appropriate device. This year's Prize will use ibmq_guadalupe which has 16 qubits. This is 4 extra qubits than the Hamiltonian, so we will need to \"inflate\" the Hamiltonian with identity operators so we can measure 12 qubit Hamiltonian's energy expectation value on a 16 qubit device.\n",
    "After inflating the Hamiltonian, the anstaz and classical optimizer components are built up. Finally, a class is defined to bring everything together for the VQE algorithm, and it's executed on a local simulator.\n",
    "\n",
    "The code below is largely based off of this example [tutorial](https://github.com/mberna/qce22-qiskit-runtime-tutorial/blob/main/docs/tutorials/Building%20algorithms%20with%20Qiskit%20Runtime.ipynb) of using qiskit runtime primitives from IEEE week. Feel free to read through to learn more about qiskit runtime and VQE."
   ]
  },
  {
   "cell_type": "markdown",
   "id": "9d8e4acf-fcf6-490d-bda9-76b663d10d4b",
   "metadata": {},
   "source": [
    "## 2-2 Qiskit runtime\n",
    "\n",
    "[Qiskit runtime](https://github.com/Qiskit/qiskit-ibm-runtime) is a paradigm which brings classical and quantum computing resources closer together--speeding up quantum algorithms especially variational ones. We will be using runtime because of its [speed boost](https://research.ibm.com/blog/120x-quantum-speedup) relative to the traditional way quantum circuits are executed using qiskit. In this notebook, we'll demonstrate an example VQE executed with qiskit runtime, but we encourage you to get a deeper understanding of the tool by checking out an overview of qiskit runtime and some tutorials on the [qiskit docs section on runtime](https://qiskit.org/documentation/partners/qiskit_ibm_runtime/) as well as the IBM [research blog](https://research.ibm.com/blog/qiskit-runtime-capabilities-integration)."
   ]
  },
  {
   "cell_type": "code",
   "execution_count": 8,
   "id": "45fc1701-e9b9-4c83-b326-7d897cfd68d7",
   "metadata": {
    "tags": []
   },
   "outputs": [],
   "source": [
    "from qiskit import QuantumCircuit, transpile\n",
    "from qiskit.circuit import Parameter\n",
    "\n",
    "from qiskit import IBMQ"
   ]
  },
  {
   "cell_type": "code",
   "execution_count": 9,
   "id": "1a7a6967-4aee-4ece-a521-34cab047ca75",
   "metadata": {
    "tags": []
   },
   "outputs": [
    {
     "name": "stderr",
     "output_type": "stream",
     "text": [
      "C:\\Users\\charu\\AppData\\Local\\Temp\\ipykernel_22296\\1554554284.py:3: DeprecationWarning: The package qiskit.providers.ibmq is being deprecated. Please see https://ibm.biz/provider_migration_guide to get instructions on how to migrate to qiskit-ibm-provider (https://github.com/Qiskit/qiskit-ibm-provider) and qiskit-ibm-runtime (https://github.com/Qiskit/qiskit-ibm-runtime).\n",
      "  IBMQ.load_account() # Load account from disk\n",
      "C:\\Users\\charu\\AppData\\Local\\Temp\\ipykernel_22296\\1554554284.py:3: DeprecationWarning: The qiskit.IBMQ entrypoint and the qiskit-ibmq-provider package (accessible from 'qiskit.providers.ibmq`) are deprecated and will be removed in a future release. Instead you should use the qiskit-ibm-provider package which is accessible from 'qiskit_ibm_provider'. You can install it with 'pip install qiskit_ibm_provider'. Just replace 'qiskit.IBMQ' with 'qiskit_ibm_provider.IBMProvider'\n",
      "  IBMQ.load_account() # Load account from disk\n"
     ]
    }
   ],
   "source": [
    "# Doc for loading IBMQ account https://quantum-computing.ibm.com/lab/docs/iql/manage/account/ibmq#the-account\n",
    "# IBMQ.save_account(TOKEN)\n",
    "IBMQ.load_account() # Load account from disk\n",
    "provider = IBMQ.get_provider()\n",
    "\n",
    "# Real backend; needed for transpilation later on\n",
    "#guadalupe = provider.get_backend(\"ibmq_guadalupe\")\n",
    "\n",
    "# Get fake backend if you like\n",
    "from qiskit.providers.fake_provider import FakeGuadalupe\n",
    "\n",
    "# Noisy simulator backend\n",
    "noisy_sim = FakeGuadalupe()\n",
    "\n"
   ]
  },
  {
   "cell_type": "markdown",
   "id": "1cf78fbd",
   "metadata": {},
   "source": [
    "As mentioned at the beginning of this section, the system Hamiltonian is defined over 12 qubits, but ibmq_guadalupe has 16 qubits. To execute VQE on ibmq_guadalupe, we will \"inflate\" the Hamilontian from 12 qubits to 16 qubits to match ibmq_guadalupe, but those extra 4 qubits will not participate in the energy expectation value. Here, we've chosen the 4 qubits that won't participate to be 0, 6, 9, 15. You may pick different qubits."
   ]
  },
  {
   "cell_type": "code",
   "execution_count": 10,
   "id": "22017474-5890-44cd-821c-22ca1b143d6b",
   "metadata": {
    "tags": []
   },
   "outputs": [
    {
     "data": {
      "image/png": "[encoded data removed]",
      "text/plain": [
       "<Figure size 640x480 with 1 Axes>"
      ]
     },
     "metadata": {},
     "output_type": "display_data"
    }
   ],
   "source": [
    "# Kagome unit cell\n",
    "num_qubits = 16\n",
    "# Edge weight\n",
    "t = 1.0\n",
    "\n",
    "# Generate graph of kagome unit cell\n",
    "# Start by defining all the edges\n",
    "graph_16 = rx.PyGraph(multigraph=False)\n",
    "graph_16.add_nodes_from(range(num_qubits))\n",
    "edge_list = [\n",
    "    (1, 2, t),\n",
    "    (2, 3, t),\n",
    "    (3, 5, t),\n",
    "    (5, 8, t),\n",
    "    (8, 11, t),\n",
    "    (11, 14, t),\n",
    "    (14, 13, t),\n",
    "    (13, 12, t),\n",
    "    (12, 10, t),\n",
    "    (10, 7, t),\n",
    "    (7, 4, t),\n",
    "    (4, 1, t),\n",
    "    (4, 2, t),\n",
    "    (2, 5, t),\n",
    "    (5, 11, t),\n",
    "    (11, 13, t),\n",
    "    (13, 10, t),\n",
    "    (10, 4, t),\n",
    "]\n",
    "# Generate graph from the list of edges\n",
    "graph_16.add_edges_from(edge_list)\n",
    "\n",
    "# Make a Lattice from graph\n",
    "kagome_unit_cell_16 = Lattice(graph_16)\n",
    "\n",
    "# Draw Lattice and include labels to check we exclude the right spins\n",
    "# Specify node locations for better visualizations\n",
    "kagome_pos = {0:[1,-1], 6:[1.5,-1], 9:[2,-1], 15:[2.5,-1], \n",
    "              1:[0,-0.8], 2:[-0.6,1], 4:[0.6,1], 10:[1.2,3], \n",
    "              13:[0.6,5], 11:[-0.6,5], 5:[-1.2,3], 3:[-1.8,0.9], \n",
    "              8:[-1.8,5.1], 14:[0,6.8], 7:[1.8,0.9], 12:[1.8,5.1]}\n",
    "kagome_unit_cell_16.draw(style={'with_labels':True, 'font_color':'white', 'node_color':'purple', 'pos':kagome_pos})\n",
    "plt.show()"
   ]
  },
  {
   "cell_type": "code",
   "execution_count": 11,
   "id": "a44d6279-a630-4e15-859c-a68dfbee6550",
   "metadata": {
    "tags": []
   },
   "outputs": [
    {
     "data": {
      "text/plain": [
       "PauliSumOp(SparsePauliOp(['IZZIIIIIIIIIIIII', 'IIZZIIIIIIIIIIII', 'IZIIZIIIIIIIIIII', 'IIZIZIIIIIIIIIII', 'IIZIIZIIIIIIIIII', 'IIIZIZIIIIIIIIII', 'IIIIZIIZIIIIIIII', 'IIIIIZIIZIIIIIII', 'IIIIZIIIIIZIIIII', 'IIIIIIIZIIZIIIII', 'IIIIIZIIIIIZIIII', 'IIIIIIIIZIIZIIII', 'IIIIIIIIIIZIZIII', 'IIIIIIIIIIZIIZII', 'IIIIIIIIIIIZIZII', 'IIIIIIIIIIIIZZII', 'IIIIIIIIIIIZIIZI', 'IIIIIIIIIIIIIZZI', 'IYYIIIIIIIIIIIII', 'IIYYIIIIIIIIIIII', 'IYIIYIIIIIIIIIII', 'IIYIYIIIIIIIIIII', 'IIYIIYIIIIIIIIII', 'IIIYIYIIIIIIIIII', 'IIIIYIIYIIIIIIII', 'IIIIIYIIYIIIIIII', 'IIIIYIIIIIYIIIII', 'IIIIIIIYIIYIIIII', 'IIIIIYIIIIIYIIII', 'IIIIIIIIYIIYIIII', 'IIIIIIIIIIYIYIII', 'IIIIIIIIIIYIIYII', 'IIIIIIIIIIIYIYII', 'IIIIIIIIIIIIYYII', 'IIIIIIIIIIIYIIYI', 'IIIIIIIIIIIIIYYI', 'IXXIIIIIIIIIIIII', 'IIXXIIIIIIIIIIII', 'IXIIXIIIIIIIIIII', 'IIXIXIIIIIIIIIII', 'IIXIIXIIIIIIIIII', 'IIIXIXIIIIIIIIII', 'IIIIXIIXIIIIIIII', 'IIIIIXIIXIIIIIII', 'IIIIXIIIIIXIIIII', 'IIIIIIIXIIXIIIII', 'IIIIIXIIIIIXIIII', 'IIIIIIIIXIIXIIII', 'IIIIIIIIIIXIXIII', 'IIIIIIIIIIXIIXII', 'IIIIIIIIIIIXIXII', 'IIIIIIIIIIIIXXII', 'IIIIIIIIIIIXIIXI', 'IIIIIIIIIIIIIXXI'],\n",
       "              coeffs=[1.+0.j, 1.+0.j, 1.+0.j, 1.+0.j, 1.+0.j, 1.+0.j, 1.+0.j, 1.+0.j, 1.+0.j,\n",
       " 1.+0.j, 1.+0.j, 1.+0.j, 1.+0.j, 1.+0.j, 1.+0.j, 1.+0.j, 1.+0.j, 1.+0.j,\n",
       " 1.+0.j, 1.+0.j, 1.+0.j, 1.+0.j, 1.+0.j, 1.+0.j, 1.+0.j, 1.+0.j, 1.+0.j,\n",
       " 1.+0.j, 1.+0.j, 1.+0.j, 1.+0.j, 1.+0.j, 1.+0.j, 1.+0.j, 1.+0.j, 1.+0.j,\n",
       " 1.+0.j, 1.+0.j, 1.+0.j, 1.+0.j, 1.+0.j, 1.+0.j, 1.+0.j, 1.+0.j, 1.+0.j,\n",
       " 1.+0.j, 1.+0.j, 1.+0.j, 1.+0.j, 1.+0.j, 1.+0.j, 1.+0.j, 1.+0.j, 1.+0.j]), coeff=1)"
      ]
     },
     "execution_count": 11,
     "metadata": {},
     "output_type": "execute_result"
    }
   ],
   "source": [
    "# Build Hamiltonian from graph edges\n",
    "heis_16 = HeisenbergModel.uniform_parameters(\n",
    "    lattice=kagome_unit_cell_16,\n",
    "    uniform_interaction=t,\n",
    "    uniform_onsite_potential=0.0,  # No singe site external field\n",
    ")\n",
    "\n",
    "# Map from SpinOp to qubits just as before.\n",
    "log_mapper = LogarithmicMapper()\n",
    "ham_16 = 4 * log_mapper.map(heis_16.second_q_ops().simplify())\n",
    "# Print Hamiltonian to check it's what we expect:\n",
    "# 18 ZZ, 18 YY, and 18 XX terms over 16 qubits instead of over 12 qubits\n",
    "ham_16"
   ]
  },
  {
   "cell_type": "markdown",
   "id": "f94f6997-44ab-43c8-ac8f-a2d58c555a22",
   "metadata": {},
   "source": [
    "## 2-3 Define an ansatz\n",
    "Crafting the ansatz is critical to VQE. You may use a prebuilt ansatz from the [qiskit circuit library](https://qiskit.org/documentation/apidoc/circuit_library.html#n-local-circuits). You may also make your own custom ansatz. Keep in mind that a custom ansatz should have no measurement gates at the end and the circuit parameters are defined by using `Parameter()` [objects](https://qiskit.org/documentation/stubs/qiskit.circuit.Parameter.html). We've demonstrated both options below. The ansatz can be defined over 12 qubits without needed to inflate it to 16 qubits at this point. The transpiler will take care of that later on.\n",
    "\n",
    "Here's an example using `EfficientSU2()` to generate an ansatz"
   ]
  },
  {
   "cell_type": "code",
   "execution_count": 12,
   "id": "4a4cbe59-08d1-4175-bd23-3ebb8a9cd620",
   "metadata": {
    "tags": []
   },
   "outputs": [],
   "source": [
    "# # Construct ansatz from qiskit circuit library functions\n",
    "# # See docs for full details\n",
    "# from qiskit.circuit.library import EfficientSU2\n",
    "# ansatz = EfficientSU2(12, entanglement='linear', reps=3, skip_final_rotation_layer=True).decompose()\n",
    "# ansatz.draw(fold=300)"
   ]
  },
  {
   "cell_type": "markdown",
   "id": "bf77fa73-acdf-4b9f-8808-8eb7284512eb",
   "metadata": {},
   "source": [
    "Here's an example of building a custom ansatz. We'll continue using this one for the rest of the notebook."
   ]
  },
  {
   "cell_type": "code",
   "execution_count": 13,
   "id": "b9c0727e-502b-43a8-8717-f19e09f6c3e0",
   "metadata": {
    "tags": []
   },
   "outputs": [],
   "source": [
    "# # Build a custom ansatz from scratch\n",
    "# ansatz_custom = QuantumCircuit(12)\n",
    "# # build initial state\n",
    "# ansatz_custom.h(range(0, 12, 2))\n",
    "# ansatz_custom.cx(range(0, 11, 2), range(1, 12, 2))\n",
    "# # First layer\n",
    "# j = 0\n",
    "# for i in range(12):\n",
    "#     ansatz_custom.rz(Parameter('θ_' + str(j)), i)\n",
    "#     j += 1\n",
    "#     ansatz_custom.ry(Parameter('θ_' + str(j)), i)\n",
    "#     j += 1\n",
    "# ansatz_custom.cx(range(0, 11), range(1, 12))\n",
    "\n",
    "# ansatz_custom.draw(fold=250)"
   ]
  },
  {
   "cell_type": "code",
   "execution_count": 14,
   "id": "a8ba0970-5f2a-46f0-98e7-fce5909e5ade",
   "metadata": {},
   "outputs": [
    {
     "data": {
      "image/png": "[encoded data removed]",
      "text/plain": [
       "<Figure size 890.803x1036.78 with 1 Axes>"
      ]
     },
     "execution_count": 14,
     "metadata": {},
     "output_type": "execute_result"
    }
   ],
   "source": [
    "from qiskit.circuit.library import TwoLocal\n",
    "circuit_2local = TwoLocal(12, 'ry', 'cx', entanglement='linear', reps=3, insert_barriers=True)\n",
    "circuit_2local.draw('mpl')"
   ]
  },
  {
   "cell_type": "markdown",
   "id": "bc27992c-3d55-47d1-a767-208bbf0334fe",
   "metadata": {},
   "source": [
    "### Match qubit layout\n",
    "The ansatz is currently defined over 12 qubits, but it will be executed on guadalupe which has 16 qubits. To make the ansatz compatible with guadalupe and the inflated Hamiltonian, we can specify the qubit layout on the real device using the transpiler (shown below). We exclude the four qubits with fewest neighbors."
   ]
  },
  {
   "cell_type": "code",
   "execution_count": 15,
   "id": "66c92338-eaaa-49ca-b369-baa0130583f1",
   "metadata": {
    "tags": []
   },
   "outputs": [
    {
     "name": "stdout",
     "output_type": "stream",
     "text": [
      "number and type of gates in the cirucit: OrderedDict([('sx', 96), ('rz', 96), ('cx', 33), ('barrier', 6)])\n",
      "number of parameters in the circuit: 48\n"
     ]
    },
    {
     "data": {
      "text/html": [
       "<pre style=\"word-wrap: normal;white-space: pre;background: #fff0;line-height: 1.1;font-family: &quot;Courier New&quot;,Courier,monospace\">                                                                                                                                                                                                                                                                                                          »\n",
       " ancilla_0 -> 0 ──────────────────────────────────────────────────────────────────────────────────────────────────────────────────────────────────────────────────────────────────────────────────────────────────────────────────────────────────────────────────────────────────────────────────────────»\n",
       "                ┌────┐ ┌──────────────┐┌────┐┌────────┐ ░                                                         ░ ┌────┐┌───────────────┐┌────┐┌────────┐ ░                                                         ░ ┌────┐┌───────────────┐┌────┐┌────────┐ ░                                         »\n",
       "       q_0 -> 1 ┤ √X ├─┤ Rz(θ[0] + π) ├┤ √X ├┤ Rz(3π) ├─░───■─────────────────────────────────────────────────────░─┤ √X ├┤ Rz(θ[12] + π) ├┤ √X ├┤ Rz(3π) ├─░───■─────────────────────────────────────────────────────░─┤ √X ├┤ Rz(θ[24] + π) ├┤ √X ├┤ Rz(3π) ├─░───■─────────────────────────────────────»\n",
       "                ├────┤ ├──────────────┤├────┤├────────┤ ░ ┌─┴─┐                                                   ░ ├────┤├───────────────┤├────┤├────────┤ ░ ┌─┴─┐                                                   ░ ├────┤├───────────────┤├────┤├────────┤ ░ ┌─┴─┐                                   »\n",
       "       q_1 -> 2 ┤ √X ├─┤ Rz(θ[1] + π) ├┤ √X ├┤ Rz(3π) ├─░─┤ X ├──■────────────────────────────────────────────────░─┤ √X ├┤ Rz(θ[13] + π) ├┤ √X ├┤ Rz(3π) ├─░─┤ X ├──■────────────────────────────────────────────────░─┤ √X ├┤ Rz(θ[25] + π) ├┤ √X ├┤ Rz(3π) ├─░─┤ X ├──■────────────────────────────────»\n",
       "                ├────┤ ├──────────────┤├────┤├────────┤ ░ └───┘┌─┴─┐                                              ░ ├────┤├───────────────┤├────┤├────────┤ ░ └───┘┌─┴─┐                                              ░ ├────┤├───────────────┤├────┤├────────┤ ░ └───┘┌─┴─┐                              »\n",
       "       q_2 -> 3 ┤ √X ├─┤ Rz(θ[2] + π) ├┤ √X ├┤ Rz(3π) ├─░──────┤ X ├──■───────────────────────────────────────────░─┤ √X ├┤ Rz(θ[14] + π) ├┤ √X ├┤ Rz(3π) ├─░──────┤ X ├──■───────────────────────────────────────────░─┤ √X ├┤ Rz(θ[26] + π) ├┤ √X ├┤ Rz(3π) ├─░──────┤ X ├──■───────────────────────────»\n",
       "                ├────┤┌┴──────────────┤├────┤├────────┤ ░      └───┘  │                                     ┌───┐ ░ ├────┤├───────────────┤├────┤├────────┤ ░      └───┘  │                                     ┌───┐ ░ ├────┤├───────────────┤├────┤├────────┤ ░      └───┘  │                           »\n",
       "      q_11 -> 4 ┤ √X ├┤ Rz(θ[11] + π) ├┤ √X ├┤ Rz(3π) ├─░─────────────┼─────────────────────────────────────┤ X ├─░─┤ √X ├┤ Rz(θ[23] + π) ├┤ √X ├┤ Rz(3π) ├─░─────────────┼─────────────────────────────────────┤ X ├─░─┤ √X ├┤ Rz(θ[35] + π) ├┤ √X ├┤ Rz(3π) ├─░─────────────┼───────────────────────────»\n",
       "                ├────┤└┬──────────────┤├────┤├────────┤ ░           ┌─┴─┐                                   └─┬─┘ ░ ├────┤├───────────────┤├────┤├────────┤ ░           ┌─┴─┐                                   └─┬─┘ ░ ├────┤├───────────────┤├────┤├────────┤ ░           ┌─┴─┐                         »\n",
       "       q_3 -> 5 ┤ √X ├─┤ Rz(θ[3] + π) ├┤ √X ├┤ Rz(3π) ├─░───────────┤ X ├──■──────────────────────────────────┼───░─┤ √X ├┤ Rz(θ[15] + π) ├┤ √X ├┤ Rz(3π) ├─░───────────┤ X ├──■──────────────────────────────────┼───░─┤ √X ├┤ Rz(θ[27] + π) ├┤ √X ├┤ Rz(3π) ├─░───────────┤ X ├──■──────────────────────»\n",
       "                └────┘ └──────────────┘└────┘└────────┘ ░           └───┘  │                                  │   ░ └────┘└───────────────┘└────┘└────────┘ ░           └───┘  │                                  │   ░ └────┘└───────────────┘└────┘└────────┘ ░           └───┘  │                      »\n",
       " ancilla_1 -> 6 ───────────────────────────────────────────────────────────┼──────────────────────────────────┼────────────────────────────────────────────────────────────────┼──────────────────────────────────┼────────────────────────────────────────────────────────────────┼──────────────────────»\n",
       "                ┌────┐┌───────────────┐┌────┐┌────────┐ ░                  │                           ┌───┐  │   ░ ┌────┐┌───────────────┐┌────┐┌────────┐ ░                  │                           ┌───┐  │   ░ ┌────┐┌───────────────┐┌────┐┌────────┐ ░                  │                      »\n",
       "      q_10 -> 7 ┤ √X ├┤ Rz(θ[10] + π) ├┤ √X ├┤ Rz(3π) ├─░──────────────────┼───────────────────────────┤ X ├──■───░─┤ √X ├┤ Rz(θ[22] + π) ├┤ √X ├┤ Rz(3π) ├─░──────────────────┼───────────────────────────┤ X ├──■───░─┤ √X ├┤ Rz(θ[34] + π) ├┤ √X ├┤ Rz(3π) ├─░──────────────────┼──────────────────────»\n",
       "                ├────┤└┬──────────────┤├────┤├────────┤ ░                ┌─┴─┐                         └─┬─┘      ░ ├────┤├───────────────┤├────┤├────────┤ ░                ┌─┴─┐                         └─┬─┘      ░ ├────┤├───────────────┤├────┤├────────┤ ░                ┌─┴─┐                    »\n",
       "       q_4 -> 8 ┤ √X ├─┤ Rz(θ[4] + π) ├┤ √X ├┤ Rz(3π) ├─░────────────────┤ X ├──■────────────────────────┼────────░─┤ √X ├┤ Rz(θ[16] + π) ├┤ √X ├┤ Rz(3π) ├─░────────────────┤ X ├──■────────────────────────┼────────░─┤ √X ├┤ Rz(θ[28] + π) ├┤ √X ├┤ Rz(3π) ├─░────────────────┤ X ├──■─────────────────»\n",
       "                └────┘ └──────────────┘└────┘└────────┘ ░                └───┘  │                        │        ░ └────┘└───────────────┘└────┘└────────┘ ░                └───┘  │                        │        ░ └────┘└───────────────┘└────┘└────────┘ ░                └───┘  │                 »\n",
       " ancilla_2 -> 9 ────────────────────────────────────────────────────────────────┼────────────────────────┼──────────────────────────────────────────────────────────────────────────┼────────────────────────┼──────────────────────────────────────────────────────────────────────────┼─────────────────»\n",
       "                ┌────┐ ┌──────────────┐┌────┐┌────────┐ ░                       │                 ┌───┐  │        ░ ┌────┐┌───────────────┐┌────┐┌────────┐ ░                       │                 ┌───┐  │        ░ ┌────┐┌───────────────┐┌────┐┌────────┐ ░                       │                 »\n",
       "      q_9 -> 10 ┤ √X ├─┤ Rz(θ[9] + π) ├┤ √X ├┤ Rz(3π) ├─░───────────────────────┼─────────────────┤ X ├──■────────░─┤ √X ├┤ Rz(θ[21] + π) ├┤ √X ├┤ Rz(3π) ├─░───────────────────────┼─────────────────┤ X ├──■────────░─┤ √X ├┤ Rz(θ[33] + π) ├┤ √X ├┤ Rz(3π) ├─░───────────────────────┼─────────────────»\n",
       "                ├────┤ ├──────────────┤├────┤├────────┤ ░                     ┌─┴─┐               └─┬─┘           ░ ├────┤├───────────────┤├────┤├────────┤ ░                     ┌─┴─┐               └─┬─┘           ░ ├────┤├───────────────┤├────┤├────────┤ ░                     ┌─┴─┐               »\n",
       "      q_5 -> 11 ┤ √X ├─┤ Rz(θ[5] + π) ├┤ √X ├┤ Rz(3π) ├─░─────────────────────┤ X ├──■──────────────┼─────────────░─┤ √X ├┤ Rz(θ[17] + π) ├┤ √X ├┤ Rz(3π) ├─░─────────────────────┤ X ├──■──────────────┼─────────────░─┤ √X ├┤ Rz(θ[29] + π) ├┤ √X ├┤ Rz(3π) ├─░─────────────────────┤ X ├──■────────────»\n",
       "                ├────┤ ├──────────────┤├────┤├────────┤ ░                     └───┘  │       ┌───┐  │             ░ ├────┤├───────────────┤├────┤├────────┤ ░                     └───┘  │       ┌───┐  │             ░ ├────┤├───────────────┤├────┤├────────┤ ░                     └───┘  │       ┌───┐»\n",
       "      q_8 -> 12 ┤ √X ├─┤ Rz(θ[8] + π) ├┤ √X ├┤ Rz(3π) ├─░────────────────────────────┼───────┤ X ├──■─────────────░─┤ √X ├┤ Rz(θ[20] + π) ├┤ √X ├┤ Rz(3π) ├─░────────────────────────────┼───────┤ X ├──■─────────────░─┤ √X ├┤ Rz(θ[32] + π) ├┤ √X ├┤ Rz(3π) ├─░────────────────────────────┼───────┤ X ├»\n",
       "                ├────┤ ├──────────────┤├────┤├────────┤ ░                            │  ┌───┐└─┬─┘                ░ ├────┤├───────────────┤├────┤├────────┤ ░                            │  ┌───┐└─┬─┘                ░ ├────┤├───────────────┤├────┤├────────┤ ░                            │  ┌───┐└─┬─┘»\n",
       "      q_7 -> 13 ┤ √X ├─┤ Rz(θ[7] + π) ├┤ √X ├┤ Rz(3π) ├─░────────────────────────────┼──┤ X ├──■──────────────────░─┤ √X ├┤ Rz(θ[19] + π) ├┤ √X ├┤ Rz(3π) ├─░────────────────────────────┼──┤ X ├──■──────────────────░─┤ √X ├┤ Rz(θ[31] + π) ├┤ √X ├┤ Rz(3π) ├─░────────────────────────────┼──┤ X ├──■──»\n",
       "                ├────┤ ├──────────────┤├────┤├────────┤ ░                          ┌─┴─┐└─┬─┘                     ░ ├────┤├───────────────┤├────┤├────────┤ ░                          ┌─┴─┐└─┬─┘                     ░ ├────┤├───────────────┤├────┤├────────┤ ░                          ┌─┴─┐└─┬─┘     »\n",
       "      q_6 -> 14 ┤ √X ├─┤ Rz(θ[6] + π) ├┤ √X ├┤ Rz(3π) ├─░──────────────────────────┤ X ├──■───────────────────────░─┤ √X ├┤ Rz(θ[18] + π) ├┤ √X ├┤ Rz(3π) ├─░──────────────────────────┤ X ├──■───────────────────────░─┤ √X ├┤ Rz(θ[30] + π) ├┤ √X ├┤ Rz(3π) ├─░──────────────────────────┤ X ├──■───────»\n",
       "                └────┘ └──────────────┘└────┘└────────┘ ░                          └───┘                          ░ └────┘└───────────────┘└────┘└────────┘ ░                          └───┘                          ░ └────┘└───────────────┘└────┘└────────┘ ░                          └───┘          »\n",
       "ancilla_3 -> 15 ──────────────────────────────────────────────────────────────────────────────────────────────────────────────────────────────────────────────────────────────────────────────────────────────────────────────────────────────────────────────────────────────────────────────────────────»\n",
       "                                                                                                                                                                                                                                                                                                          »\n",
       "«                                                                         \n",
       "« ancilla_0 -> 0 ─────────────────────────────────────────────────────────\n",
       "«                                ░ ┌────┐┌───────────────┐┌────┐┌────────┐\n",
       "«       q_0 -> 1 ────────────────░─┤ √X ├┤ Rz(θ[36] + π) ├┤ √X ├┤ Rz(3π) ├\n",
       "«                                ░ ├────┤├───────────────┤├────┤├────────┤\n",
       "«       q_1 -> 2 ────────────────░─┤ √X ├┤ Rz(θ[37] + π) ├┤ √X ├┤ Rz(3π) ├\n",
       "«                                ░ ├────┤├───────────────┤├────┤├────────┤\n",
       "«       q_2 -> 3 ────────────────░─┤ √X ├┤ Rz(θ[38] + π) ├┤ √X ├┤ Rz(3π) ├\n",
       "«                          ┌───┐ ░ ├────┤├───────────────┤├────┤├────────┤\n",
       "«      q_11 -> 4 ──────────┤ X ├─░─┤ √X ├┤ Rz(θ[47] + π) ├┤ √X ├┤ Rz(3π) ├\n",
       "«                          └─┬─┘ ░ ├────┤├───────────────┤├────┤├────────┤\n",
       "«       q_3 -> 5 ────────────┼───░─┤ √X ├┤ Rz(θ[39] + π) ├┤ √X ├┤ Rz(3π) ├\n",
       "«                            │   ░ └────┘└───────────────┘└────┘└────────┘\n",
       "« ancilla_1 -> 6 ────────────┼────────────────────────────────────────────\n",
       "«                     ┌───┐  │   ░ ┌────┐┌───────────────┐┌────┐┌────────┐\n",
       "«      q_10 -> 7 ─────┤ X ├──■───░─┤ √X ├┤ Rz(θ[46] + π) ├┤ √X ├┤ Rz(3π) ├\n",
       "«                     └─┬─┘      ░ ├────┤├───────────────┤├────┤├────────┤\n",
       "«       q_4 -> 8 ───────┼────────░─┤ √X ├┤ Rz(θ[40] + π) ├┤ √X ├┤ Rz(3π) ├\n",
       "«                       │        ░ └────┘└───────────────┘└────┘└────────┘\n",
       "« ancilla_2 -> 9 ───────┼─────────────────────────────────────────────────\n",
       "«                ┌───┐  │        ░ ┌────┐┌───────────────┐┌────┐┌────────┐\n",
       "«      q_9 -> 10 ┤ X ├──■────────░─┤ √X ├┤ Rz(θ[45] + π) ├┤ √X ├┤ Rz(3π) ├\n",
       "«                └─┬─┘           ░ ├────┤├───────────────┤├────┤├────────┤\n",
       "«      q_5 -> 11 ──┼─────────────░─┤ √X ├┤ Rz(θ[41] + π) ├┤ √X ├┤ Rz(3π) ├\n",
       "«                  │             ░ ├────┤├───────────────┤├────┤├────────┤\n",
       "«      q_8 -> 12 ──■─────────────░─┤ √X ├┤ Rz(θ[44] + π) ├┤ √X ├┤ Rz(3π) ├\n",
       "«                                ░ ├────┤├───────────────┤├────┤├────────┤\n",
       "«      q_7 -> 13 ────────────────░─┤ √X ├┤ Rz(θ[43] + π) ├┤ √X ├┤ Rz(3π) ├\n",
       "«                                ░ ├────┤├───────────────┤├────┤├────────┤\n",
       "«      q_6 -> 14 ────────────────░─┤ √X ├┤ Rz(θ[42] + π) ├┤ √X ├┤ Rz(3π) ├\n",
       "«                                ░ └────┘└───────────────┘└────┘└────────┘\n",
       "«ancilla_3 -> 15 ─────────────────────────────────────────────────────────\n",
       "«                                                                         </pre>"
      ],
      "text/plain": [
       "                                                                                                                                                                                                                                                                                                          »\n",
       " ancilla_0 -> 0 ──────────────────────────────────────────────────────────────────────────────────────────────────────────────────────────────────────────────────────────────────────────────────────────────────────────────────────────────────────────────────────────────────────────────────────────»\n",
       "                ┌────┐ ┌──────────────┐┌────┐┌────────┐ ░                                                         ░ ┌────┐┌───────────────┐┌────┐┌────────┐ ░                                                         ░ ┌────┐┌───────────────┐┌────┐┌────────┐ ░                                         »\n",
       "       q_0 -> 1 ┤ √X ├─┤ Rz(θ[0] + π) ├┤ √X ├┤ Rz(3π) ├─░───■─────────────────────────────────────────────────────░─┤ √X ├┤ Rz(θ[12] + π) ├┤ √X ├┤ Rz(3π) ├─░───■─────────────────────────────────────────────────────░─┤ √X ├┤ Rz(θ[24] + π) ├┤ √X ├┤ Rz(3π) ├─░───■─────────────────────────────────────»\n",
       "                ├────┤ ├──────────────┤├────┤├────────┤ ░ ┌─┴─┐                                                   ░ ├────┤├───────────────┤├────┤├────────┤ ░ ┌─┴─┐                                                   ░ ├────┤├───────────────┤├────┤├────────┤ ░ ┌─┴─┐                                   »\n",
       "       q_1 -> 2 ┤ √X ├─┤ Rz(θ[1] + π) ├┤ √X ├┤ Rz(3π) ├─░─┤ X ├──■────────────────────────────────────────────────░─┤ √X ├┤ Rz(θ[13] + π) ├┤ √X ├┤ Rz(3π) ├─░─┤ X ├──■────────────────────────────────────────────────░─┤ √X ├┤ Rz(θ[25] + π) ├┤ √X ├┤ Rz(3π) ├─░─┤ X ├──■────────────────────────────────»\n",
       "                ├────┤ ├──────────────┤├────┤├────────┤ ░ └───┘┌─┴─┐                                              ░ ├────┤├───────────────┤├────┤├────────┤ ░ └───┘┌─┴─┐                                              ░ ├────┤├───────────────┤├────┤├────────┤ ░ └───┘┌─┴─┐                              »\n",
       "       q_2 -> 3 ┤ √X ├─┤ Rz(θ[2] + π) ├┤ √X ├┤ Rz(3π) ├─░──────┤ X ├──■───────────────────────────────────────────░─┤ √X ├┤ Rz(θ[14] + π) ├┤ √X ├┤ Rz(3π) ├─░──────┤ X ├──■───────────────────────────────────────────░─┤ √X ├┤ Rz(θ[26] + π) ├┤ √X ├┤ Rz(3π) ├─░──────┤ X ├──■───────────────────────────»\n",
       "                ├────┤┌┴──────────────┤├────┤├────────┤ ░      └───┘  │                                     ┌───┐ ░ ├────┤├───────────────┤├────┤├────────┤ ░      └───┘  │                                     ┌───┐ ░ ├────┤├───────────────┤├────┤├────────┤ ░      └───┘  │                           »\n",
       "      q_11 -> 4 ┤ √X ├┤ Rz(θ[11] + π) ├┤ √X ├┤ Rz(3π) ├─░─────────────┼─────────────────────────────────────┤ X ├─░─┤ √X ├┤ Rz(θ[23] + π) ├┤ √X ├┤ Rz(3π) ├─░─────────────┼─────────────────────────────────────┤ X ├─░─┤ √X ├┤ Rz(θ[35] + π) ├┤ √X ├┤ Rz(3π) ├─░─────────────┼───────────────────────────»\n",
       "                ├────┤└┬──────────────┤├────┤├────────┤ ░           ┌─┴─┐                                   └─┬─┘ ░ ├────┤├───────────────┤├────┤├────────┤ ░           ┌─┴─┐                                   └─┬─┘ ░ ├────┤├───────────────┤├────┤├────────┤ ░           ┌─┴─┐                         »\n",
       "       q_3 -> 5 ┤ √X ├─┤ Rz(θ[3] + π) ├┤ √X ├┤ Rz(3π) ├─░───────────┤ X ├──■──────────────────────────────────┼───░─┤ √X ├┤ Rz(θ[15] + π) ├┤ √X ├┤ Rz(3π) ├─░───────────┤ X ├──■──────────────────────────────────┼───░─┤ √X ├┤ Rz(θ[27] + π) ├┤ √X ├┤ Rz(3π) ├─░───────────┤ X ├──■──────────────────────»\n",
       "                └────┘ └──────────────┘└────┘└────────┘ ░           └───┘  │                                  │   ░ └────┘└───────────────┘└────┘└────────┘ ░           └───┘  │                                  │   ░ └────┘└───────────────┘└────┘└────────┘ ░           └───┘  │                      »\n",
       " ancilla_1 -> 6 ───────────────────────────────────────────────────────────┼──────────────────────────────────┼────────────────────────────────────────────────────────────────┼──────────────────────────────────┼────────────────────────────────────────────────────────────────┼──────────────────────»\n",
       "                ┌────┐┌───────────────┐┌────┐┌────────┐ ░                  │                           ┌───┐  │   ░ ┌────┐┌───────────────┐┌────┐┌────────┐ ░                  │                           ┌───┐  │   ░ ┌────┐┌───────────────┐┌────┐┌────────┐ ░                  │                      »\n",
       "      q_10 -> 7 ┤ √X ├┤ Rz(θ[10] + π) ├┤ √X ├┤ Rz(3π) ├─░──────────────────┼───────────────────────────┤ X ├──■───░─┤ √X ├┤ Rz(θ[22] + π) ├┤ √X ├┤ Rz(3π) ├─░──────────────────┼───────────────────────────┤ X ├──■───░─┤ √X ├┤ Rz(θ[34] + π) ├┤ √X ├┤ Rz(3π) ├─░──────────────────┼──────────────────────»\n",
       "                ├────┤└┬──────────────┤├────┤├────────┤ ░                ┌─┴─┐                         └─┬─┘      ░ ├────┤├───────────────┤├────┤├────────┤ ░                ┌─┴─┐                         └─┬─┘      ░ ├────┤├───────────────┤├────┤├────────┤ ░                ┌─┴─┐                    »\n",
       "       q_4 -> 8 ┤ √X ├─┤ Rz(θ[4] + π) ├┤ √X ├┤ Rz(3π) ├─░────────────────┤ X ├──■────────────────────────┼────────░─┤ √X ├┤ Rz(θ[16] + π) ├┤ √X ├┤ Rz(3π) ├─░────────────────┤ X ├──■────────────────────────┼────────░─┤ √X ├┤ Rz(θ[28] + π) ├┤ √X ├┤ Rz(3π) ├─░────────────────┤ X ├──■─────────────────»\n",
       "                └────┘ └──────────────┘└────┘└────────┘ ░                └───┘  │                        │        ░ └────┘└───────────────┘└────┘└────────┘ ░                └───┘  │                        │        ░ └────┘└───────────────┘└────┘└────────┘ ░                └───┘  │                 »\n",
       " ancilla_2 -> 9 ────────────────────────────────────────────────────────────────┼────────────────────────┼──────────────────────────────────────────────────────────────────────────┼────────────────────────┼──────────────────────────────────────────────────────────────────────────┼─────────────────»\n",
       "                ┌────┐ ┌──────────────┐┌────┐┌────────┐ ░                       │                 ┌───┐  │        ░ ┌────┐┌───────────────┐┌────┐┌────────┐ ░                       │                 ┌───┐  │        ░ ┌────┐┌───────────────┐┌────┐┌────────┐ ░                       │                 »\n",
       "      q_9 -> 10 ┤ √X ├─┤ Rz(θ[9] + π) ├┤ √X ├┤ Rz(3π) ├─░───────────────────────┼─────────────────┤ X ├──■────────░─┤ √X ├┤ Rz(θ[21] + π) ├┤ √X ├┤ Rz(3π) ├─░───────────────────────┼─────────────────┤ X ├──■────────░─┤ √X ├┤ Rz(θ[33] + π) ├┤ √X ├┤ Rz(3π) ├─░───────────────────────┼─────────────────»\n",
       "                ├────┤ ├──────────────┤├────┤├────────┤ ░                     ┌─┴─┐               └─┬─┘           ░ ├────┤├───────────────┤├────┤├────────┤ ░                     ┌─┴─┐               └─┬─┘           ░ ├────┤├───────────────┤├────┤├────────┤ ░                     ┌─┴─┐               »\n",
       "      q_5 -> 11 ┤ √X ├─┤ Rz(θ[5] + π) ├┤ √X ├┤ Rz(3π) ├─░─────────────────────┤ X ├──■──────────────┼─────────────░─┤ √X ├┤ Rz(θ[17] + π) ├┤ √X ├┤ Rz(3π) ├─░─────────────────────┤ X ├──■──────────────┼─────────────░─┤ √X ├┤ Rz(θ[29] + π) ├┤ √X ├┤ Rz(3π) ├─░─────────────────────┤ X ├──■────────────»\n",
       "                ├────┤ ├──────────────┤├────┤├────────┤ ░                     └───┘  │       ┌───┐  │             ░ ├────┤├───────────────┤├────┤├────────┤ ░                     └───┘  │       ┌───┐  │             ░ ├────┤├───────────────┤├────┤├────────┤ ░                     └───┘  │       ┌───┐»\n",
       "      q_8 -> 12 ┤ √X ├─┤ Rz(θ[8] + π) ├┤ √X ├┤ Rz(3π) ├─░────────────────────────────┼───────┤ X ├──■─────────────░─┤ √X ├┤ Rz(θ[20] + π) ├┤ √X ├┤ Rz(3π) ├─░────────────────────────────┼───────┤ X ├──■─────────────░─┤ √X ├┤ Rz(θ[32] + π) ├┤ √X ├┤ Rz(3π) ├─░────────────────────────────┼───────┤ X ├»\n",
       "                ├────┤ ├──────────────┤├────┤├────────┤ ░                            │  ┌───┐└─┬─┘                ░ ├────┤├───────────────┤├────┤├────────┤ ░                            │  ┌───┐└─┬─┘                ░ ├────┤├───────────────┤├────┤├────────┤ ░                            │  ┌───┐└─┬─┘»\n",
       "      q_7 -> 13 ┤ √X ├─┤ Rz(θ[7] + π) ├┤ √X ├┤ Rz(3π) ├─░────────────────────────────┼──┤ X ├──■──────────────────░─┤ √X ├┤ Rz(θ[19] + π) ├┤ √X ├┤ Rz(3π) ├─░────────────────────────────┼──┤ X ├──■──────────────────░─┤ √X ├┤ Rz(θ[31] + π) ├┤ √X ├┤ Rz(3π) ├─░────────────────────────────┼──┤ X ├──■──»\n",
       "                ├────┤ ├──────────────┤├────┤├────────┤ ░                          ┌─┴─┐└─┬─┘                     ░ ├────┤├───────────────┤├────┤├────────┤ ░                          ┌─┴─┐└─┬─┘                     ░ ├────┤├───────────────┤├────┤├────────┤ ░                          ┌─┴─┐└─┬─┘     »\n",
       "      q_6 -> 14 ┤ √X ├─┤ Rz(θ[6] + π) ├┤ √X ├┤ Rz(3π) ├─░──────────────────────────┤ X ├──■───────────────────────░─┤ √X ├┤ Rz(θ[18] + π) ├┤ √X ├┤ Rz(3π) ├─░──────────────────────────┤ X ├──■───────────────────────░─┤ √X ├┤ Rz(θ[30] + π) ├┤ √X ├┤ Rz(3π) ├─░──────────────────────────┤ X ├──■───────»\n",
       "                └────┘ └──────────────┘└────┘└────────┘ ░                          └───┘                          ░ └────┘└───────────────┘└────┘└────────┘ ░                          └───┘                          ░ └────┘└───────────────┘└────┘└────────┘ ░                          └───┘          »\n",
       "ancilla_3 -> 15 ──────────────────────────────────────────────────────────────────────────────────────────────────────────────────────────────────────────────────────────────────────────────────────────────────────────────────────────────────────────────────────────────────────────────────────────»\n",
       "                                                                                                                                                                                                                                                                                                          »\n",
       "«                                                                         \n",
       "« ancilla_0 -> 0 ─────────────────────────────────────────────────────────\n",
       "«                                ░ ┌────┐┌───────────────┐┌────┐┌────────┐\n",
       "«       q_0 -> 1 ────────────────░─┤ √X ├┤ Rz(θ[36] + π) ├┤ √X ├┤ Rz(3π) ├\n",
       "«                                ░ ├────┤├───────────────┤├────┤├────────┤\n",
       "«       q_1 -> 2 ────────────────░─┤ √X ├┤ Rz(θ[37] + π) ├┤ √X ├┤ Rz(3π) ├\n",
       "«                                ░ ├────┤├───────────────┤├────┤├────────┤\n",
       "«       q_2 -> 3 ────────────────░─┤ √X ├┤ Rz(θ[38] + π) ├┤ √X ├┤ Rz(3π) ├\n",
       "«                          ┌───┐ ░ ├────┤├───────────────┤├────┤├────────┤\n",
       "«      q_11 -> 4 ──────────┤ X ├─░─┤ √X ├┤ Rz(θ[47] + π) ├┤ √X ├┤ Rz(3π) ├\n",
       "«                          └─┬─┘ ░ ├────┤├───────────────┤├────┤├────────┤\n",
       "«       q_3 -> 5 ────────────┼───░─┤ √X ├┤ Rz(θ[39] + π) ├┤ √X ├┤ Rz(3π) ├\n",
       "«                            │   ░ └────┘└───────────────┘└────┘└────────┘\n",
       "« ancilla_1 -> 6 ────────────┼────────────────────────────────────────────\n",
       "«                     ┌───┐  │   ░ ┌────┐┌───────────────┐┌────┐┌────────┐\n",
       "«      q_10 -> 7 ─────┤ X ├──■───░─┤ √X ├┤ Rz(θ[46] + π) ├┤ √X ├┤ Rz(3π) ├\n",
       "«                     └─┬─┘      ░ ├────┤├───────────────┤├────┤├────────┤\n",
       "«       q_4 -> 8 ───────┼────────░─┤ √X ├┤ Rz(θ[40] + π) ├┤ √X ├┤ Rz(3π) ├\n",
       "«                       │        ░ └────┘└───────────────┘└────┘└────────┘\n",
       "« ancilla_2 -> 9 ───────┼─────────────────────────────────────────────────\n",
       "«                ┌───┐  │        ░ ┌────┐┌───────────────┐┌────┐┌────────┐\n",
       "«      q_9 -> 10 ┤ X ├──■────────░─┤ √X ├┤ Rz(θ[45] + π) ├┤ √X ├┤ Rz(3π) ├\n",
       "«                └─┬─┘           ░ ├────┤├───────────────┤├────┤├────────┤\n",
       "«      q_5 -> 11 ──┼─────────────░─┤ √X ├┤ Rz(θ[41] + π) ├┤ √X ├┤ Rz(3π) ├\n",
       "«                  │             ░ ├────┤├───────────────┤├────┤├────────┤\n",
       "«      q_8 -> 12 ──■─────────────░─┤ √X ├┤ Rz(θ[44] + π) ├┤ √X ├┤ Rz(3π) ├\n",
       "«                                ░ ├────┤├───────────────┤├────┤├────────┤\n",
       "«      q_7 -> 13 ────────────────░─┤ √X ├┤ Rz(θ[43] + π) ├┤ √X ├┤ Rz(3π) ├\n",
       "«                                ░ ├────┤├───────────────┤├────┤├────────┤\n",
       "«      q_6 -> 14 ────────────────░─┤ √X ├┤ Rz(θ[42] + π) ├┤ √X ├┤ Rz(3π) ├\n",
       "«                                ░ └────┘└───────────────┘└────┘└────────┘\n",
       "«ancilla_3 -> 15 ─────────────────────────────────────────────────────────\n",
       "«                                                                         "
      ]
     },
     "execution_count": 15,
     "metadata": {},
     "output_type": "execute_result"
    }
   ],
   "source": [
    "# Force anstaz to be applied to qubits in the heavy hex.\n",
    "# Avoid the outer qubits 0, 6, 9, and 15 which we accounted for in the lattice definition.\n",
    "q_layout = [1, 2, 3, 5, 8, 11, 14, 13, 12, 10, 7, 4]\n",
    "\n",
    "# ansatz_opt = transpile(ansatz_custom, backend=noisy_sim, initial_layout=q_layout)\n",
    "# ansatz_1 = transpile(ansatz, backend=noisy_sim, initial_layout=q_layout)\n",
    "ansatz_2local = transpile(circuit_2local, backend=noisy_sim, initial_layout=q_layout)\n",
    "print('number and type of gates in the cirucit:', ansatz_2local.count_ops())\n",
    "print('number of parameters in the circuit:', ansatz_2local.num_parameters)\n",
    "ansatz_2local.draw(fold=300)"
   ]
  },
  {
   "cell_type": "markdown",
   "id": "5409199f-031b-4b4d-bba5-ac30b97cae60",
   "metadata": {},
   "source": [
    "## 2-4 Choose a classical optimizer\n",
    "Select a [classical optimizer](https://qiskit.org/documentation/stubs/qiskit.algorithms.optimizers.html#local-optimizers). The classical optimizer will encounter errored and stochastic results from the quantum computer due to gate errors, measurement errors, and other noise sources as well as finite sampling affects [8]. Choose a classical optimizer that pairs well with your approach to VQE. Along with choosing a classical optimizer, picking an initial set of parameters plays a significant role in VQE. In this example, a random set of values is picked (shown in the `CustomVQE` class section 2-5).\n",
    "\n",
    "\\[8\\] \"Using models to improve optimizers for variational quantum algorithms\" K. Sung, et al. [arXiv:2005.11011v2](https://arxiv.org/abs/2005.11011v2) [quant-ph] (2020)"
   ]
  },
  {
   "cell_type": "code",
   "execution_count": 16,
   "id": "4dfc540b-1a31-4481-b37c-90e840ca6e19",
   "metadata": {
    "tags": []
   },
   "outputs": [],
   "source": [
    "from qiskit.algorithms.optimizers import SPSA\n",
    "\n",
    "optimizer = SPSA(maxiter=1000)"
   ]
  },
  {
   "cell_type": "markdown",
   "id": "dbbe9fdd-f6cf-472a-8955-5356919c8c98",
   "metadata": {},
   "source": [
    "## 2-5 Define custom VQE program\n",
    "The VQE calculation can be efficiently orchestrated between the quantum and classical computer using qiskit's [primitives](https://qiskit.org/documentation/apidoc/primitives.html). Below is a simple example of using the [Estimator primitive](https://qiskit.org/documentation/apidoc/primitives.html#overview-of-estimator) with your computer as a local simulator of a quantum computer. It's convenient to bring the components of VQE together into a custom class which we've called `CustomVQE`.\n",
    "\n",
    "If you want more control over the measurement results and how the expectation values are computed, use the [Sampler primitive](https://qiskit.org/documentation/apidoc/primitives.html#overview-of-sampler) which will output the probabilities (or quasi-probabilities) of every measured state instead of expectation values."
   ]
  },
  {
   "cell_type": "code",
   "execution_count": 17,
   "id": "25c2d053-97fb-4597-b716-d30b025d2a6f",
   "metadata": {
    "tags": []
   },
   "outputs": [],
   "source": [
    "from qiskit.algorithms import MinimumEigensolver, VQEResult\n",
    "\n",
    "# Define a custome VQE class to orchestra the ansatz, classical optimizers, \n",
    "# initial point, callback, and final result\n",
    "class CustomVQE(MinimumEigensolver):\n",
    "    \n",
    "    def __init__(self, estimator, circuit, optimizer, callback=None):\n",
    "        self._estimator = estimator\n",
    "        self._circuit = circuit\n",
    "        self._optimizer = optimizer\n",
    "        self._callback = callback\n",
    "        \n",
    "    def compute_minimum_eigenvalue(self, operators, aux_operators=None):\n",
    "                \n",
    "        # Define objective function to classically minimize over\n",
    "        def objective(x):\n",
    "            # Execute job with estimator primitive\n",
    "            job = self._estimator.run([self._circuit], [operators], [x])\n",
    "            # Get results from jobs\n",
    "            est_result = job.result()\n",
    "            # Get the measured energy value\n",
    "            value = est_result.values[0]\n",
    "            # Save result information using callback function\n",
    "            if self._callback is not None:\n",
    "                self._callback(value)\n",
    "            return value\n",
    "            \n",
    "        # Select an initial point for the ansatzs' parameters\n",
    "        x0 = np.pi/4 * np.random.rand(self._circuit.num_parameters)\n",
    "        \n",
    "        # Run optimization\n",
    "        res = self._optimizer.minimize(objective, x0=x0)\n",
    "        \n",
    "        # Populate VQE result\n",
    "        result = VQEResult()\n",
    "        result.cost_function_evals = res.nfev\n",
    "        result.eigenvalue = res.fun\n",
    "        result.optimal_parameters = res.x\n",
    "        return result\n"
   ]
  },
  {
   "cell_type": "markdown",
   "id": "763b523a-94e5-40ae-89c1-caa045ffa563",
   "metadata": {},
   "source": [
    "### Callback\n",
    "It's important to know what's going on between the classical and quantum computer during the optimization. What parameter values is the classical optimizer picking? How does the convergence to the ground state energy behave?\n",
    "\n",
    "Defining a callback function gives us a chance to peek in. A simple callback method is defined below. See [this tutorial](https://qiskit.org/documentation/tutorials/algorithms/02_vqe_convergence.html) for more information and be sure to read the classical [optimizers' docs](https://qiskit.org/documentation/stubs/qiskit.algorithms.optimizers.html) for what specific values can be extracted during optimization. For example [SPSA](https://qiskit.org/documentation/stubs/qiskit.algorithms.optimizers.SPSA.html#qiskit.algorithms.optimizers.SPSA) returns: (nfev, parameters, value, stepsize, accepted)."
   ]
  },
  {
   "cell_type": "code",
   "execution_count": 18,
   "id": "3c9f48d3-186e-419a-8e03-53d3e81d1fca",
   "metadata": {
    "tags": []
   },
   "outputs": [],
   "source": [
    "# Define a simple callback function\n",
    "intermediate_info = []\n",
    "def callback(value):\n",
    "        intermediate_info.append(value)"
   ]
  },
  {
   "cell_type": "markdown",
   "id": "03488a94-62da-4f09-9b91-d6857e7dcc91",
   "metadata": {},
   "source": [
    "## 2-6 Execute simulated VQE\n",
    "The VQE is built! Time to test it out on a simulator. This may take a few seconds."
   ]
  },
  {
   "cell_type": "code",
   "execution_count": 19,
   "id": "4f793a4d",
   "metadata": {
    "tags": []
   },
   "outputs": [],
   "source": [
    "from qiskit.primitives import Estimator"
   ]
  },
  {
   "cell_type": "code",
   "execution_count": 20,
   "id": "f04d92b9-0467-4c6f-b893-48e5035880b4",
   "metadata": {
    "tags": []
   },
   "outputs": [],
   "source": [
    "# # Define instance of qiskit-terra's Estimator primitive\n",
    "# estimator = Estimator([ansatz_opt], [ham_16])\n",
    "\n",
    "# # Setup VQE algorithm\n",
    "# custom_vqe = CustomVQE(estimator, ansatz_opt, optimizer, callback=callback)\n",
    "\n",
    "# # Run the custom VQE function and monitor execution time\n",
    "# start = time()\n",
    "# result = custom_vqe.compute_minimum_eigenvalue(ham_16)\n",
    "# end = time()\n",
    "\n",
    "# print(result)\n",
    "# print(f'execution time (s): {end - start:.2f}')"
   ]
  },
  {
   "cell_type": "markdown",
   "id": "8ea85ca6-9c38-48af-8dc7-802ea94aa60a",
   "metadata": {},
   "source": [
    "In the print out above, the ground state energy is under \"eigenvalue\", and the optimal choice of parameters that goes with that energy is under \"optimal_parameters\". Let's plot the energy convergence data the callback function acquired."
   ]
  },
  {
   "cell_type": "code",
   "execution_count": 21,
   "id": "04beda9f-aa08-45fc-95a5-63dbf916d881",
   "metadata": {
    "tags": []
   },
   "outputs": [],
   "source": [
    "# plt.plot(intermediate_info, color='purple', lw=2, label='Simulated VQE')\n",
    "# plt.ylabel('Energy')\n",
    "# plt.xlabel('Iterations')\n",
    "# # Exact ground state energy value\n",
    "# plt.axhline(y=gs_energy, color=\"tab:red\", ls=\"--\", lw=2, label=\"Target: \" + str(gs_energy))\n",
    "# plt.legend()\n",
    "# plt.grid()\n",
    "# plt.show()"
   ]
  },
  {
   "cell_type": "markdown",
   "id": "7665fd9d-80af-4529-a3ff-d7d85b41da0a",
   "metadata": {},
   "source": [
    "The true ground state energy is -18.0. As a metric for how well the VQE found the ground state energy, we will compute the relative difference between -18.0 and what we just achieved with VQE. This will be the metric of performance in the judging criteria, though it's important to note that it's not the only useful metric when working with VQE. Remember that the lower the relative error the higher you will score."
   ]
  },
  {
   "cell_type": "code",
   "execution_count": 22,
   "id": "17fa9823-dd6f-40a5-938a-744662133b00",
   "metadata": {
    "tags": []
   },
   "outputs": [],
   "source": [
    "# def rel_err(target, measured):\n",
    "#     return abs((target - measured) / target)\n",
    "\n",
    "# # Compute the relative error between the expected ground state energy and the VQE's output\n",
    "# rel_error = rel_err(gs_energy, result.eigenvalue)\n",
    "\n",
    "# print(f'Expected ground state energy: {gs_energy:.10f}')\n",
    "# print(f'Computed ground state energy: {result.eigenvalue:.10f}')\n",
    "# print(f'Relative error: {rel_error:.8f}')"
   ]
  },
  {
   "cell_type": "markdown",
   "id": "7519917a-8605-4445-bee2-efc839283604",
   "metadata": {},
   "source": [
    "## 3-1 Qiskit runtime (cloud simulator)\n",
    "\n",
    "Next we demonstrate how to run VQE using [qiskit_ibm_runtime](https://github.com/Qiskit/qiskit-ibm-runtime) **which has different syntax from qiskit terra's runtime**. The qiskit_ibm_runtime module includes the same programming model as qiskit terra, but qiskit_ibm_runtime has access to a cloud simulator and more importantly the ibmq_guadalupe device. To learn more about qiskit_ibm_runtime check out these tutorials from the docs: [a tutorial on the estimator](https://github.com/Qiskit/qiskit-ibm-runtime/blob/main/docs/tutorials/how-to-getting-started-with-estimator.ipynb) and [a tutorial on the sampler](https://github.com/Qiskit/qiskit-ibm-runtime/blob/main/docs/tutorials/how-to-getting-started-with-sampler.ipynb).\n",
    "\n",
    "We will use all the same VQE components we've built up so far, but the syntax for executing on the hardware is wrapped in [a session](https://quantum-computing.ibm.com/lab/docs/iql/manage/systems/sessions/) as shown in the following cells.\n",
    "\n",
    "We first demonstrate running VQE with the cloud simulator backend to check everything is working correctly. This may take a few minutes. After running on the cloud simulator, we make a simple switch of backends to the real ibmq_guadalupe device to get the final result. Depending on how your VQE is setup, this may take a couple hours."
   ]
  },
  {
   "cell_type": "code",
   "execution_count": 23,
   "id": "1e42ae96-a23b-40dc-af63-f7067e708c98",
   "metadata": {
    "tags": []
   },
   "outputs": [],
   "source": [
    "from qiskit_ibm_runtime import (QiskitRuntimeService, Session,\n",
    "                                Estimator as RuntimeEstimator)\n",
    "from qiskit import Aer\n",
    "\n",
    "# Save an IBM Quantum account. See docs for credential security warning\n",
    "# https://github.com/Qiskit/qiskit-ibm-runtime/tree/stable/0.7#saving-account-on-disk\n",
    "#QiskitRuntimeService.save_account(channel=\"ibm_quantum\", token=\"280b89f54244a8d26edba65e9a31ddf3faef617da4a7615f4c9cfbbf8218248382639c30ee1a5a8ee98a3b0641d9278b52c1eeeaf653f54f758ca75fd618cd8c\")\n",
    "service = QiskitRuntimeService(channel='ibm_quantum')"
   ]
  },
  {
   "cell_type": "code",
   "execution_count": 24,
   "id": "cd58da58-d42c-4a83-b72a-b289009e4004",
   "metadata": {
    "tags": []
   },
   "outputs": [
    {
     "name": "stdout",
     "output_type": "stream",
     "text": [
      "Simulators: [<IBMBackend('simulator_mps')>, <IBMBackend('simulator_stabilizer')>, <IBMBackend('simulator_extended_stabilizer')>, <IBMBackend('simulator_statevector')>, <IBMBackend('ibmq_qasm_simulator')>]\n"
     ]
    }
   ],
   "source": [
    "# print available backend and select one\n",
    "print('Simulators:', service.backends(simulator=True))\n",
    "\n",
    "# Select a simulator backend\n",
    "backend = 'simulator_statevector'"
   ]
  },
  {
   "cell_type": "code",
   "execution_count": 25,
   "id": "5f76c686-0975-4557-a652-17b5325124fa",
   "metadata": {
    "tags": []
   },
   "outputs": [],
   "source": [
    "import signal, time\n",
    "\n",
    "from qiskit_ibm_runtime import Estimator, Session\n",
    "from qiskit.providers import JobStatus\n",
    "\n",
    "def timeout_handler(signum, frame):\n",
    "    raise Exception('Iteration timed out')\n",
    "    \n",
    "class RetryEstimator(Estimator):\n",
    "    \"\"\"RuntimeRetryEstimator class.\n",
    "    \n",
    "    This class inherits from Qiskit IBM Runtime's Estimator and overwrites its run method such that it retries calling it\n",
    "    a maximum of 'max_retries' consecutive times, if it encounters one of the following randomly occuring errors:\n",
    "    \n",
    "    * An Estimator error (in this case \"Job.ERROR\" is printed, and the job is cancelled automatically)\n",
    "    * A timeout error where the job either remains running or completes but does not return anything, for a time larger \n",
    "      than 'timeout' (in this case the job is cancelled by the patch and \"Job.CANCELLED\" is printed)\n",
    "    * A creation error, where the job fails to be created because connection is lost between the runtime server and the\n",
    "      quantum computer (in this case \"Failed to create job.\" is printed). If this error occurs, the patch connects the user\n",
    "      to a new Session (to be handled with care! also, this will unfortunately put the next job in the queue). \n",
    "    \"\"\"\n",
    "    \n",
    "    def __init__(self, *args, max_retries: int = 5, timeout: int = 3600, **kwargs) -> None:\n",
    "        super().__init__(*args, **kwargs)\n",
    "        self.max_retries = max_retries\n",
    "        self.timeout = timeout\n",
    "        self.backend = super().session._backend\n",
    "        signal.signal(signal.SIGALRM, timeout_handler)\n",
    "    \n",
    "    def run(self, circuits, observables, parameter_values, **kwargs):\n",
    "        result = None\n",
    "        for i in range(self.max_retries):\n",
    "            try:\n",
    "                job = super().run(circuits, observables, parameter_values, **kwargs)\n",
    "                while job.status() in [JobStatus.INITIALIZING, JobStatus.QUEUED, JobStatus.VALIDATING]:\n",
    "                    time.sleep(5) # Check every 5 seconds whether job status has changed\n",
    "                signal.alarm(self.timeout) # Once job starts running, set timeout to 1 hour by default\n",
    "                result = job.result()\n",
    "                if result is not None:\n",
    "                    signal.alarm(0) # reset timer\n",
    "                    return job\n",
    "            except Exception as e:\n",
    "                print(\"\\nSomething went wrong...\")\n",
    "                print(f\"\\n\\nERROR MESSAGE:\\n{e}\\n\\n\")\n",
    "                if 'job' in locals(): # Sometimes job fails to create\n",
    "                    print(f\"Job ID: {job.job_id}. Job status: {job.status()}.\")\n",
    "                    if job.status() not in [JobStatus.DONE, JobStatus.ERROR, JobStatus.CANCELLED]:\n",
    "                        job.cancel()\n",
    "                else:\n",
    "                    print(\"Failed to create job.\")\n",
    "                print(f\"Starting trial number {i+2}...\\n\")\n",
    "                print(f\"Creating new session...\\n\")\n",
    "                signal.alarm(0) # reset timer\n",
    "                super().session.close()\n",
    "                self._session = Session(backend=self.backend)\n",
    "        if result is None:\n",
    "            raise RuntimeError(f\"Program failed! Maximum number of retries ({self.max_retries}) exceeded\")"
   ]
  },
  {
   "cell_type": "code",
   "execution_count": 26,
   "id": "83f2d884-3117-493b-8290-080b916902ca",
   "metadata": {},
   "outputs": [],
   "source": [
    "# from qiskit.providers.fake_provider import FakeGuadalupe\n",
    "# from qiskit_aer.noise import NoiseModel\n",
    "# from qiskit_ibm_runtime import QiskitRuntimeService, Sampler, Estimator, Session, Options\n",
    "\n",
    "# # Make a noise model\n",
    "# fake_backend = FakeGuadalupe()\n",
    "# noise_model = NoiseModel.from_backend(fake_backend)\n",
    "\n",
    "# # Set options to include the noise model\n",
    "# options = Options()\n",
    "# options.simulator = {\n",
    "#     \"noise_model\": noise_model,\n",
    "#     \"basis_gates\": fake_backend.configuration().basis_gates,\n",
    "#     \"coupling_map\": fake_backend.configuration().coupling_map,\n",
    "#     \"seed_simulator\": 42\n",
    "# }\n",
    "\n",
    "# # Set number of shots, optimization_level and resilience_level\n",
    "# options.execution.shots = 1000\n",
    "# options.optimization_level = 0\n",
    "# options.resilience_level = 0"
   ]
  },
  {
   "cell_type": "code",
   "execution_count": 27,
   "id": "82c84117-6239-42c2-964d-7a3df3f709e1",
   "metadata": {
    "tags": []
   },
   "outputs": [],
   "source": [
    "# Define a simple callback function\n",
    "intermediate_info_sim_backend = []\n",
    "def callback_sim(value):\n",
    "        intermediate_info_sim_backend.append(value)\n"
   ]
  },
  {
   "cell_type": "markdown",
   "id": "ff52dfc1-8226-4f20-b534-d08501eeffb3",
   "metadata": {},
   "source": [
    "WITH SPSA"
   ]
  },
  {
   "cell_type": "code",
   "execution_count": 28,
   "id": "293371d8-25cf-4daf-944e-05fa38ba4156",
   "metadata": {
    "tags": []
   },
   "outputs": [],
   "source": [
    "# #Setup Estimator with session error handling reconnection work around\n",
    "# intermediate_info_sim_backend = []\n",
    "# def callback_sim(value):\n",
    "#         intermediate_info_sim_backend.append(value)\n",
    "# backend = 'simulator_statevector'\n",
    "# start = time.time()\n",
    "# with Session(service=service, backend=backend) as session:\n",
    "#     # Prepare extended primitive\n",
    "#     rt_estimator = RuntimeEstimator(session=session)\n",
    "#     # set up algorithm\n",
    "#     custom_vqe_spsa = CustomVQE(rt_estimator, ansatz_2local, optimizer, callback=callback_sim)\n",
    "#     # run algorithm\n",
    "#     result_spsa = custom_vqe_spsa.compute_minimum_eigenvalue(ham_16)\n",
    "# end = time.time()\n",
    "# print(f'execution time (s): {end - start:.2f}')"
   ]
  },
  {
   "cell_type": "code",
   "execution_count": 1,
   "id": "59953c5b",
   "metadata": {},
   "outputs": [],
   "source": [
    "# print(intermediate_info_sim_backend)\n",
    "intermediate_info_sim_backendx = [6.392, 5.305, 5.138999999999999, 5.598, 6.493, 4.903, 6.9750000000000005, 4.532, 6.268000000000001, 4.978000000000001, 5.367000000000001, 4.687999999999999, 4.6899999999999995, 6.641000000000001, 4.236000000000001, 5.277, 4.236000000000001, 5.354000000000001, 5.176, 5.78, 7.2120000000000015, 4.602, 4.595000000000001, 5.349, 4.746, 6.408999999999999, 4.961000000000001, 4.557, 5.535000000000002, 5.308, 5.6530000000000005, 5.307, 5.572, 6.0040000000000004, 4.111999999999999, 6.428000000000001, 5.8839999999999995, 4.3660000000000005, 6.325, 4.343999999999999, 5.46, 4.664000000000001, 5.473000000000001, 5.542999999999999, 6.799999999999999, 4.2780000000000005, 6.246, 4.345, 6.959, 4.51, 6.056000000000001, 5.574999999999999, 4.204, 4.87, 1.9259999999999997, 5.053000000000001, 0.6759999999999997, 1.9269999999999996, -1.0739999999999998, -0.40600000000000036, -1.8620000000000003, 0.14000000000000012, -1.6530000000000002, -1.1400000000000001, -2.728, -0.7519999999999999, -3.4250000000000003, -2.3280000000000003, -3.38, -1.892, -3.821, -1.801, -3.2350000000000008, -3.6550000000000002, -4.3549999999999995, -2.404, -4.098, -3.0550000000000006, -3.3289999999999997, -3.899, -3.699, -4.044, -3.469, -4.183, -4.739999999999999, -3.4520000000000004, -4.034, -4.651, -4.156, -4.556, -5.513999999999999, -3.6999999999999997, -4.840999999999999, -5.566, -4.354, -6.309000000000001, -5.108, -6.3229999999999995, -5.305, -6.106000000000001, -6.146, -5.913, -6.5760000000000005, -5.295, -5.947, -5.821, -5.306, -6.871, -6.513999999999999, -6.164000000000001, -6.149, -6.792, -7.265000000000001, -6.081, -6.938, -6.7829999999999995, -6.916, -6.975, -6.313, -6.917, -6.748000000000001, -6.823, -6.635, -6.704000000000001, -6.922000000000001, -6.747999999999999, -7.186, -5.976000000000001, -6.457, -7.579, -7.084999999999999, -6.9190000000000005, -6.725, -7.4270000000000005, -7.3629999999999995, -6.77, -6.7379999999999995, -7.039, -7.734, -6.830000000000001, -8.165, -6.4940000000000015, -8.11, -7.437999999999999, -7.497999999999999, -8.046, -7.394, -8.680000000000001, -8.42, -8.257, -8.45, -8.523, -9.098, -7.559000000000001, -8.681999999999999, -8.244, -8.308, -8.379, -8.306, -8.856, -8.432, -9.312000000000001, -9.018, -8.585, -8.472, -9.137, -8.119, -9.658, -8.602, -9.16, -9.074, -9.184, -9.652000000000001, -8.914, -8.821000000000002, -9.818, -10.071000000000002, -8.440999999999999, -10.084, -9.052000000000001, -9.919, -9.526, -9.346, -10.123000000000001, -9.556999999999999, -10.224, -10.05, -9.717, -9.829999999999998, -10.472000000000001, -10.083, -9.872, -10.105, -10.235000000000001, -9.626, -10.053999999999998, -9.564, -9.948, -10.305, -9.993, -10.295, -9.882000000000001, -10.023, -10.224, -9.48, -10.387, -9.912999999999998, -10.844000000000001, -10.672, -9.883, -10.762, -9.413, -10.866999999999999, -9.940999999999999, -10.965, -9.788, -10.556999999999999, -10.769, -10.775, -10.446, -10.755999999999998, -10.699, -10.358, -10.866, -11.029, -9.830000000000002, -11.019, -10.187, -10.793, -10.818, -10.687999999999999, -10.972, -11.012, -10.787, -10.447, -10.625999999999998, -11.415999999999999, -10.333, -10.587, -11.469999999999999, -10.866, -11.505999999999998, -10.749, -11.687999999999999, -11.466000000000001, -11.184000000000001, -11.115, -11.239, -11.431999999999999, -11.145, -10.693999999999999, -11.413, -10.841999999999999, -11.565999999999999, -10.863, -11.702000000000002, -11.236999999999998, -11.737, -11.305, -11.617, -11.181000000000001, -11.561, -11.605, -11.206, -11.452, -11.338000000000001, -11.295, -11.43, -11.849, -11.593, -11.588999999999999, -11.627, -11.321, -11.34, -10.826, -11.857, -11.323, -11.671000000000001, -10.92, -11.972, -12.062999999999999, -11.341000000000001, -11.783000000000001, -11.616, -11.195, -11.943999999999999, -11.472999999999999, -11.754999999999999, -11.623999999999999, -11.392999999999999, -11.929, -11.460999999999999, -11.587000000000002, -11.656, -11.555, -11.981, -11.627, -11.706, -11.09, -12.025, -11.552999999999999, -11.703, -11.763, -12.432, -12.075, -11.908000000000001, -11.745, -11.838, -11.642, -12.492, -11.383, -12.248, -11.993, -11.910999999999998, -11.594, -12.078999999999999, -11.857999999999999, -11.955, -11.262, -12.601999999999999, -12.085, -11.917000000000002, -12.544, -11.192, -11.972999999999999, -13.052, -13.050999999999998, -12.117999999999999, -12.276, -12.531, -12.447000000000001, -12.086000000000002, -12.393, -12.308, -12.856, -12.584999999999999, -12.445, -13.032, -12.274000000000001, -12.639000000000001, -12.155, -12.873000000000001, -12.87, -12.204, -12.263, -13.197000000000001, -13.158, -12.594000000000001, -12.315999999999999, -13.062000000000001, -13.164, -12.358, -12.893999999999998, -12.74, -12.941, -12.892, -13.375, -12.648, -12.615, -13.115, -13.475000000000001, -12.604, -12.989999999999998, -13.103000000000002, -13.014999999999997, -12.600999999999999, -12.564, -13.514, -13.343, -13.207999999999998, -12.835, -13.253, -12.849, -13.145999999999999, -13.258, -12.948, -13.033000000000001, -13.037999999999998, -12.932, -13.167, -13.757000000000001, -12.634, -12.907, -13.297, -13.764, -13.070999999999998, -13.155000000000001, -13.596999999999998, -13.459, -13.195, -13.109999999999998, -13.155999999999999, -13.447, -13.224, -14.151, -12.776, -13.635000000000002, -13.087, -13.876000000000001, -13.228000000000002, -13.504999999999999, -13.660000000000002, -12.948, -13.922999999999998, -13.326, -13.745, -13.692, -13.841999999999999, -13.870999999999999, -13.924999999999999, -13.796999999999997, -13.725, -13.42, -14.055, -14.11, -13.071, -13.751, -14.061, -13.846, -13.434000000000001, -13.465, -13.657, -13.677, -13.902000000000001, -14.196, -13.785, -13.774999999999999, -13.743000000000002, -13.729000000000001, -13.379999999999999, -13.677, -13.953000000000001, -13.691, -13.846999999999998, -14.512, -13.947000000000003, -14.000000000000002, -13.63, -13.681999999999999, -13.934, -14.690999999999999, -13.690999999999999, -14.247, -13.636, -14.166000000000002, -13.847999999999999, -14.098, -14.422, -14.172, -13.921, -14.427, -14.216999999999999, -13.751999999999999, -14.179000000000002, -14.379999999999999, -13.504000000000001, -14.449000000000002, -14.395000000000003, -14.83, -13.381, -13.857, -14.677, -14.647, -14.076999999999998, -13.722, -14.619, -14.494, -14.318, -15.001, -14.248000000000001, -14.513, -13.759, -14.604, -14.777000000000001, -14.690999999999999, -14.519000000000002, -14.849, -14.244, -14.469999999999999, -15.062999999999999, -14.41, -14.4, -15.193000000000001, -14.186, -14.21, -15.006, -14.101000000000003, -14.918999999999999, -14.451000000000002, -14.741, -14.927, -14.485, -14.972000000000001, -14.808, -15.215, -14.290000000000003, -14.61, -15.05, -14.850999999999999, -14.735, -14.872000000000002, -15.055, -15.084, -14.71, -14.561, -14.868, -14.943999999999999, -14.992, -15.053, -14.973, -15.018999999999998, -15.090000000000002, -15.113999999999999, -14.980999999999998, -14.604, -14.773999999999997, -14.958000000000002, -14.934999999999999, -14.913, -15.327999999999996, -14.672999999999998, -15.05, -15.130999999999998, -14.803, -14.772000000000002, -15.085, -14.591000000000001, -15.035, -14.805, -14.924, -15.261000000000003, -15.429, -15.205, -15.043999999999999, -14.873999999999999, -15.365, -15.168999999999997, -14.994, -15.03, -14.985999999999999, -14.812999999999999, -15.118999999999998, -15.173999999999998, -15.047, -15.136, -14.81, -14.908999999999999, -14.77, -14.419, -14.887, -15.370000000000001, -15.227, -14.919, -15.009999999999998, -14.952000000000002, -15.455000000000002, -15.158999999999999, -15.055, -15.113, -14.96, -14.783000000000001, -14.870000000000001, -14.318999999999999, -14.963999999999999, -15.311, -15.237000000000002, -14.634, -14.847999999999999, -14.930999999999997, -15.175, -15.126000000000001, -15.282, -15.047, -15.245000000000001, -14.654, -14.854, -15.175, -15.331, -15.040000000000001, -14.986999999999998, -14.914, -15.160999999999998, -14.847000000000001, -14.841000000000001, -14.817, -14.867, -15.425, -15.341000000000001, -14.856000000000002, -15.054, -14.993000000000002, -15.349, -14.677999999999999, -14.846, -14.791, -15.005, -14.531999999999998, -14.884, -14.953, -15.094000000000001, -15.385, -15.225, -15.068, -15.137, -14.986000000000002, -15.112, -15.075999999999999, -15.052, -15.358, -15.331, -15.127, -15.056, -14.860000000000001, -14.85, -14.823999999999998, -15.233, -15.29, -15.014, -15.383, -14.906999999999998, -15.152000000000001, -15.105, -15.297, -15.111, -15.184999999999999, -15.131, -15.046, -15.055, -14.623, -15.063999999999998, -15.33, -15.124, -15.394, -15.351000000000003, -15.006, -15.132, -15.470999999999998, -15.43, -14.997, -15.081000000000001, -14.648, -14.8, -15.040000000000003, -15.383, -15.566, -15.092, -14.911999999999999, -15.143, -15.296000000000003, -15.107000000000001, -14.860999999999999, -15.143, -15.381, -15.438, -15.357999999999999, -15.312999999999999, -15.415, -15.268, -15.172, -14.993999999999998, -15.050999999999998, -15.216000000000001, -15.246, -15.396, -15.290000000000003, -15.227, -14.993, -14.9, -15.214, -14.786000000000001, -15.175, -14.960999999999999, -15.171, -14.986999999999998, -15.486, -15.169999999999998, -14.919999999999998, -15.332, -15.037, -15.200000000000001, -15.059000000000001, -14.867, -15.226, -15.408000000000001, -15.390999999999998, -15.372, -15.260000000000002, -15.212, -15.146, -15.098, -15.345, -15.358999999999998, -15.225999999999999, -15.077, -15.126000000000001, -15.058, -15.214, -15.174000000000001, -15.608000000000002, -15.219999999999999, -15.392, -15.221999999999998, -15.209, -15.179000000000002, -15.318999999999999, -15.472999999999999, -14.915000000000003, -15.349, -15.199000000000002, -15.478000000000002, -15.458, -15.501000000000001, -15.252, -15.449999999999998, -15.161999999999999, -15.003, -14.984000000000002, -15.053999999999998, -15.631000000000002, -15.471, -15.379999999999999, -15.395999999999999, -15.343, -15.348000000000003, -15.508, -15.131, -15.058, -15.075, -14.984000000000002, -15.252999999999998, -15.293, -15.39, -15.317, -15.162999999999998, -15.347, -15.463999999999999, -15.633000000000001, -15.570999999999998, -15.376000000000001, -15.233, -15.514000000000003, -15.733, -15.4, -15.397, -15.427999999999999, -15.169, -15.416, -15.333000000000002, -15.524, -15.545000000000002, -15.169, -15.482, -15.405000000000001, -15.506000000000002, -15.082, -15.18, -15.43, -15.331999999999999, -14.927000000000001, -15.111, -15.201, -15.558999999999997, -15.166, -15.017, -15.289, -15.540999999999999, -15.457, -15.209, -15.137, -15.212, -15.013000000000002, -15.455, -15.713000000000001, -15.711, -15.056000000000001, -15.193999999999999, -15.324, -15.069, -15.394, -15.413999999999998, -15.362000000000002, -15.189, -15.315000000000001, -15.279, -15.245999999999999, -15.366999999999997, -15.553, -15.293000000000001, -15.387, -15.564, -15.207999999999998, -15.494999999999997, -15.227, -15.290000000000001, -15.118000000000002, -14.996, -15.32, -15.514, -15.300999999999997, -14.995000000000001, -15.125, -15.456, -15.521, -15.939, -15.403999999999998, -15.376000000000001, -15.253, -15.354, -15.492999999999999, -15.185999999999998, -15.457, -15.316, -15.331, -15.384, -15.262999999999998, -15.187000000000001, -15.611, -15.23, -15.704, -15.383000000000001, -15.445999999999998, -15.419, -15.210999999999999, -15.448, -15.371000000000002, -15.421999999999999, -15.665, -15.117999999999999, -15.498999999999999, -15.569999999999999, -15.555, -15.260000000000002, -15.768, -15.943, -15.656, -15.421, -15.324, -15.050999999999998, -15.598, -15.826, -15.443999999999999, -15.654, -15.467000000000002, -15.475000000000001, -15.421999999999999, -15.704, -15.498, -15.826000000000002, -15.406, -15.416, -15.341999999999999, -15.625, -15.679, -15.536000000000001, -15.207, -15.146999999999998, -15.572, -15.497000000000002, -15.301, -15.728000000000002, -15.469000000000001, -15.767999999999997, -15.273, -15.375999999999998, -15.461, -15.749000000000002, -15.443000000000001, -14.981000000000002, -15.741, -15.888000000000002, -15.506, -15.218, -15.338, -15.509999999999998, -15.488000000000001, -15.826999999999998, -15.354, -15.646999999999998, -15.424999999999999, -15.297999999999998, -15.357, -15.57, -15.783, -15.906, -15.360000000000003, -15.772, -15.318999999999999, -15.617, -15.654, -15.703, -15.578, -16.059, -15.770999999999997, -15.482999999999999, -15.577, -15.774999999999999, -15.809000000000001, -15.542000000000002, -15.740000000000002, -15.497, -15.332, -15.404, -15.561, -15.917, -15.78, -15.516000000000002, -15.545000000000002, -15.252, -15.526, -15.892, -15.485, -15.911000000000001, -15.423000000000002, -15.82, -15.306, -15.972000000000001, -15.913000000000002, -15.826, -15.754999999999999, -15.478, -15.917, -15.589, -15.786999999999999, -15.497, -15.81, -15.707, -15.990999999999998, -15.826, -15.558, -15.596999999999998, -15.663, -16.101, -15.565999999999999, -15.886, -15.759, -15.558, -15.691, -15.532, -15.855, -15.729, -15.925, -15.765, -15.65, -15.669, -15.676999999999998, -15.681, -15.445, -15.396, -15.567000000000002, -15.528, -15.745000000000001, -15.706000000000003, -15.791, -15.777999999999999, -15.715000000000002, -16.042, -15.723, -15.735, -15.802, -15.791000000000002, -15.712, -15.703, -16.032, -15.569, -15.645, -15.878999999999998, -15.701, -15.709000000000001, -16.108999999999998, -15.425, -15.881, -15.910000000000002, -15.855, -15.782, -15.768999999999998, -16.199, -15.641000000000002, -15.699, -15.86, -15.808, -15.965, -15.869, -16.019, -15.943000000000001, -15.943999999999999, -15.673, -15.716000000000001, -16.192999999999998, -15.954999999999998, -15.925000000000002, -15.736999999999998, -15.885000000000002, -15.911999999999999, -15.612000000000002, -15.785, -15.961, -15.960999999999999, -15.9, -15.817, -16.138, -15.77, -15.911, -15.716999999999999, -16.076, -15.866999999999997, -15.559, -16.091, -16.18, -15.763, -15.695, -16.06, -15.684999999999999, -15.947000000000001, -15.824, -15.549000000000001, -16.086, -16.079, -15.981, -15.994, -15.789, -15.681, -15.954, -15.966, -15.966999999999999, -15.678, -16.022000000000002, -16.15, -15.88, -15.843000000000002, -16.026, -15.704, -16.362, -16.021, -15.930999999999997, -16.185, -16.316999999999997, -16.155, -15.797999999999998, -16.009, -15.71, -15.491, -15.98, -15.421, -16.11, -16.123, -16.153, -15.613, -16.093000000000004, -15.778, -16.166, -15.969000000000001, -16.213, -15.89, -15.844, -16.320999999999998, -15.979000000000001, -16.189, -15.828, -16.270999999999997, -15.985, -16.043000000000003, -15.89, -16.433, -15.956, -15.771999999999998, -15.780999999999999, -16.141, -16.167, -16.307, -16.02, -16.482, -15.985, -16.003999999999998, -16.156, -16.082, -16.222, -16.006, -16.113999999999997, -15.966000000000001, -15.708000000000002, -15.847999999999999, -16.353, -16.227, -15.933, -16.016000000000002, -16.048000000000002, -16.652, -16.187, -16.11, -16.034, -15.893999999999998, -16.067, -16.441, -16.345, -16.236, -16.204, -15.795000000000002, -15.756, -16.25, -16.037, -15.636, -16.445, -16.319000000000003, -16.347, -16.363, -16.317, -16.102, -16.384, -15.833000000000002, -16.454, -16.167, -16.479999999999997, -16.124, -15.821000000000002, -16.127000000000002, -16.157, -16.497, -16.314, -16.128, -16.049, -16.203, -15.938, -15.913, -16.102999999999998, -16.48, -16.240000000000002, -16.066, -16.247999999999998, -16.144, -16.219, -16.046999999999997, -16.305, -15.867, -16.302, -16.415, -16.720000000000002, -16.270000000000003, -16.285999999999998, -16.228, -16.119, -16.156, -16.201, -16.072, -16.152, -16.4, -16.351999999999997, -16.506999999999998, -16.157999999999998, -16.54, -15.949000000000002, -16.158, -16.455, -15.907999999999998, -16.563, -16.192, -16.187, -16.398, -16.378, -16.479999999999997, -16.595, -15.949, -16.417, -16.453000000000003, -16.289, -16.358, -16.284, -16.39, -16.503, -16.36, -16.366, -16.737, -16.538, -16.109, -16.575000000000003, -16.5, -16.292, -16.404999999999998, -16.029, -16.329, -16.037999999999997, -16.227, -16.475, -16.231, -16.762, -16.083, -16.279, -16.208000000000002, -16.676000000000002, -16.240000000000002, -16.457, -16.136, -16.513, -16.635, -16.599999999999998, -16.479, -16.494, -16.479999999999997, -16.338, -16.66, -16.48, -16.478, -16.607999999999997, -16.367, -16.579, -16.354, -16.716, -16.253, -16.400000000000002, -16.11, -16.427, -16.326, -16.644, -16.886, -16.944000000000003, -16.394, -16.398, -16.337000000000003, -16.356, -16.548, -16.119, -16.182000000000002, -16.686, -16.645, -16.672, -16.099, -16.271, -16.341, -16.506, -16.613, -16.268, -16.762, -16.584, -16.43, -16.777, -16.619, -16.439, -16.648000000000003, -16.29, -16.270000000000003, -16.717000000000002, -16.491, -16.544, -16.869, -16.338, -16.909999999999997, -16.398000000000003, -16.389, -16.574, -16.626, -16.756, -16.630000000000003, -16.209000000000003, -16.762000000000004, -16.217, -16.754, -16.415000000000003, -16.53, -16.740000000000002, -16.628, -16.653000000000002, -16.301000000000002, -16.55, -16.535, -16.462, -16.427, -16.353, -16.455000000000002, -16.58, -16.558, -16.970999999999997, -16.581, -16.445, -16.418, -16.603, -16.844, -16.672, -16.511000000000003, -16.974999999999998, -16.848000000000003, -16.665, -17.021, -16.656999999999996, -16.586000000000002, -16.887999999999998, -16.833, -16.618, -16.404999999999998, -16.881999999999998, -16.857, -16.896, -16.825000000000003, -16.811, -16.916, -16.494, -16.759, -16.954, -17.012999999999998, -16.724, -16.454, -16.766, -16.951999999999998, -16.804, -16.898, -16.251, -16.616, -16.729, -17.031999999999996, -16.756, -16.94, -16.596, -17.111000000000004, -16.721, -16.805999999999997, -16.965, -16.991, -16.782, -16.807, -16.945, -17.016000000000002, -16.88, -16.698, -16.964, -16.942, -16.944, -16.901, -16.853, -17.053, -16.841, -16.809, -16.472, -16.506999999999998, -16.798000000000002, -16.754, -16.728, -16.849, -16.806, -16.675, -16.919, -16.939999999999998, -16.627, -16.802999999999997, -17.215999999999998, -16.875, -17.003999999999998, -16.692, -16.476000000000003, -16.939999999999998, -16.711000000000002, -16.900000000000002, -16.845000000000002, -16.971999999999998, -17.149, -16.791, -17.125999999999998, -16.629, -16.702, -16.864, -16.674, -16.685000000000002, -16.828, -16.748, -16.796, -16.798000000000002, -17.239, -16.528, -16.942999999999998, -16.852000000000004, -16.787, -16.965, -16.686, -16.832, -17.028999999999996, -17.074, -17.032999999999998, -17.159999999999997, -16.908, -16.753, -16.73, -17.115000000000002, -16.987, -17.203, -16.453, -17.063000000000002, -17.262999999999998, -16.849, -16.868, -17.056, -17.0, -17.013, -16.881, -16.524, -16.527, -16.759999999999998, -17.017, -16.705000000000002, -16.775, -16.891, -16.622, -16.872999999999998, -17.031, -16.754, -17.197, -17.045, -16.78, -17.094, -17.003, -17.173000000000002, -16.866, -16.823, -16.872999999999998, -17.025, -16.894, -16.927, -16.915999999999997, -17.26, -16.982, -16.596, -17.267, -17.267, -16.838, -17.066, -16.799, -16.953, -16.942, -16.841, -16.775, -17.201, -17.035, -17.195, -17.080000000000002, -17.137999999999998, -16.99, -17.003, -17.192, -17.218, -17.319000000000003, -16.905, -16.819, -16.930999999999997, -16.855, -16.948, -17.022, -17.096000000000004, -16.925, -16.902, -16.836, -17.008, -16.89, -16.964, -17.042, -16.997999999999998, -17.139, -17.009, -17.168000000000003, -17.171, -17.134, -16.872999999999998, -17.012999999999998, -17.022, -17.180999999999997, -16.951999999999998, -16.723, -16.932, -16.917, -17.045, -16.829, -17.125, -16.986, -16.806, -16.823999999999998, -17.267, -17.041, -16.96, -17.137, -16.892, -16.607, -17.072000000000003, -16.833, -17.173000000000002, -17.226, -16.637999999999998, -16.89, -16.97, -16.993000000000002, -16.793, -17.026, -16.931, -17.049, -17.03, -17.044999999999998, -16.817, -17.012999999999998, -16.832, -17.131, -17.294, -17.249000000000002, -17.29, -17.098, -16.926000000000002, -16.976, -17.112000000000002, -17.094, -16.863, -16.951999999999998, -17.29, -17.391, -16.862, -16.954, -17.1, -17.127, -17.403000000000002, -17.293, -17.017, -17.222, -16.632, -16.811999999999998, -17.021, -17.27, -17.052999999999997, -17.25, -16.953000000000003, -17.161, -17.027, -17.3, -17.037999999999997, -16.834000000000003, -16.793, -16.99, -17.096, -17.256, -17.372, -17.161, -17.092, -17.092, -17.052999999999997, -17.078000000000003, -17.264000000000003, -17.074, -17.054000000000002, -17.3, -17.002, -16.741, -17.187, -16.977, -16.985, -17.241, -17.262, -17.366, -17.041, -17.008999999999997, -17.005, -17.041, -17.019, -17.079, -17.121, -17.037, -17.099999999999998, -16.957, -17.146, -17.171999999999997, -17.089, -17.308999999999997, -17.061, -17.268, -17.223, -17.236, -17.18, -17.288999999999998, -17.076, -17.215, -16.971999999999998, -17.254, -17.188000000000002, -17.14, -17.051000000000002, -17.145000000000003, -16.977, -17.041, -17.388, -17.220000000000002, -17.029, -16.881, -17.009, -17.019, -17.201, -17.301, -17.285, -17.117, -17.219, -17.472, -17.224999999999998, -17.119999999999997, -17.086, -17.058999999999997, -17.585, -17.249000000000002, -16.959, -17.071, -16.87, -16.911, -17.106, -16.805, -17.329, -17.268, -17.183, -17.207, -17.28, -17.173, -16.998, -17.112000000000002, -17.049000000000003, -17.029, -17.426, -17.346999999999998, -16.913, -16.865000000000002, -17.081, -17.035, -17.154, -17.149, -17.049, -17.107999999999997, -17.165, -17.264, -17.187, -17.038, -17.160000000000004, -17.148, -16.925, -17.049999999999997, -17.23, -16.994999999999997, -17.078, -17.235999999999997, -17.229000000000003, -17.177, -17.114, -16.781000000000002, -17.097, -17.148000000000003, -17.117, -17.214, -17.353, -17.247999999999998, -16.880999999999997, -16.983999999999998, -17.131, -16.965, -17.295, -17.215, -17.227, -17.152, -17.179, -17.008, -17.157999999999998, -17.235999999999997, -17.208, -17.048000000000002, -17.331000000000003, -17.143, -17.373, -17.33, -17.047, -17.095, -17.124000000000002, -17.116, -16.857, -16.842, -17.192, -17.179000000000002, -17.271, -17.195999999999998, -17.320999999999998, -17.462, -16.899, -17.061, -17.124, -17.356, -16.937, -16.827999999999996, -17.107, -17.209000000000003, -17.115, -17.168, -17.016000000000002, -17.118, -17.246000000000002, -17.14, -17.345000000000002, -17.344, -17.056, -17.148, -17.12, -17.099000000000004, -17.102, -17.025, -17.086, -17.153, -17.153, -17.232, -16.808, -17.015, -17.435, -17.445999999999998, -17.301000000000002, -17.405, -17.014, -17.021, -17.262, -17.327, -17.448999999999998, -17.192999999999998, -17.038, -17.0, -17.145, -17.269, -17.0, -17.076, -17.093, -16.888, -17.233, -17.194, -17.138, -17.114, -17.165, -17.253999999999998, -17.468, -17.387, -17.127, -17.292, -17.232999999999997, -17.401, -17.396, -17.372, -17.243000000000002, -17.244999999999997, -17.35, -17.275, -17.151, -17.376, -16.823, -16.8, -17.108, -17.033, -17.037, -17.233, -17.258, -17.084, -17.331, -17.348, -17.142000000000003, -17.35, -17.092, -16.997, -17.364999999999995, -17.264000000000003, -17.254, -17.104, -17.294999999999998, -17.197, -16.881, -16.948999999999998, -17.245, -17.250999999999998, -17.483, -17.233, -17.365, -17.333, -17.035000000000004, -17.075, -17.222, -17.189999999999998, -16.988, -17.056, -17.339, -17.391, -16.944000000000003, -16.877, -17.222, -17.314999999999998, -17.247, -17.467, -17.066000000000003, -17.165, -17.108, -17.126, -17.273, -17.162999999999997, -17.328000000000003, -17.429000000000002, -17.297, -17.203000000000003, -17.180999999999997, -17.206, -17.092, -17.119, -17.278, -17.353, -17.11, -17.204, -16.933999999999997, -17.044999999999998, -17.102, -17.214, -17.343, -17.311999999999998, -17.070999999999998, -17.182000000000002, -17.057000000000002, -17.128, -17.037999999999997, -17.118000000000002, -17.111, -17.2, -17.244, -17.242, -17.31, -17.304000000000002, -17.065, -17.05, -17.231, -17.208, -17.369, -17.286, -17.32, -17.366, -17.235, -17.288, -17.361, -17.418999999999997, -17.249000000000002, -17.292, -17.212, -17.051000000000002, -16.928, -16.742, -17.019, -17.096000000000004, -17.301000000000002, -17.288, -17.136, -17.276, -17.169, -17.155, -17.271, -17.217, -17.228, -17.288999999999998, -17.377, -17.333, -17.404, -17.337000000000003, -17.074, -17.12, -17.272999999999996, -17.222, -17.299, -17.414, -17.403000000000002, -17.405, -17.424, -17.475, -17.094, -17.095, -17.15, -17.204, -17.174999999999997, -17.075, -17.14, -17.182000000000002, -17.095, -17.116, -17.141, -17.291, -17.074, -17.179000000000002, -17.103, -17.205, -17.302, -17.316000000000003, -17.256999999999998, -17.198999999999998, -17.183, -17.218, -17.196, -17.293, -17.150000000000002, -17.181, -17.206000000000003, -17.113, -17.450000000000003, -17.243000000000002, -17.362000000000002, -17.301, -17.124000000000002, -17.354, -17.200000000000003, -17.194, -17.338, -17.362000000000002, -17.401000000000003, -17.33, -17.105000000000004, -17.150999999999996, -17.29, -17.364, -17.324, -17.363999999999997, -17.082, -16.989, -17.159000000000002, -17.035, -17.408, -17.392, -17.482, -17.389000000000003, -17.328999999999997, -17.455, -17.251, -17.317999999999998, -17.232, -17.241, -17.249000000000002, -17.226, -17.009999999999998, -17.128, -17.388, -17.374, -17.221, -17.351, -17.277, -17.250999999999998, -17.206000000000003, -17.241, -17.213, -17.223, -17.398, -17.3, -16.995, -17.128999999999998, -17.162, -17.374000000000002, -17.198, -17.083000000000002, -17.566, -17.523000000000003, -17.253999999999998, -17.362, -17.03, -17.075000000000003, -17.22, -17.16, -17.233, -17.253999999999998, -17.419, -17.344, -17.254, -17.162, -17.300000000000004, -17.397, -17.44, -17.413999999999998, -17.212, -17.22, -17.259, -17.28, -17.134, -17.141000000000002, -17.262999999999998, -17.043, -17.360000000000003, -17.266, -17.378999999999998, -17.426000000000002, -17.1, -17.057000000000002, -17.29, -17.205000000000002, -17.176000000000002, -17.192999999999998, -17.375999999999998, -17.421999999999997, -17.262, -17.179000000000002, -17.394, -17.257, -17.299, -17.162, -17.335, -17.36, -17.406, -17.395000000000003, -17.245, -17.276, -17.574, -17.366, -17.404999999999998, -17.307, -17.328, -17.316, -17.345, -17.264000000000003, -17.342, -17.164, -17.290999999999997, -17.367, -17.182000000000002, -17.214000000000006, -17.284, -17.349, -17.075000000000003, -17.212, -17.139, -17.205000000000002, -17.368000000000002, -17.374000000000002, -16.961, -16.878, -17.44, -17.446, -17.256, -17.249000000000002, -17.076, -17.189, -17.203, -17.247999999999998, -17.535, -17.499000000000002, -17.192999999999998, -17.204, -17.334, -17.442, -17.243000000000002, -17.281, -17.278, -17.063, -17.151000000000003, -17.027, -16.961999999999996, -16.951, -17.410999999999998, -17.409, -17.371, -17.389, -16.952, -16.993000000000002, -17.268, -17.339, -17.247, -17.258, -17.986]"
   ]
  },
  {
   "cell_type": "code",
   "execution_count": 30,
   "id": "2f6dd13d-9c6d-431a-87a7-231739fa6ed0",
   "metadata": {
    "tags": []
   },
   "outputs": [],
   "source": [
    "from qiskit.algorithms.optimizers import GSLS\n",
    "\n",
    "optimizer1 = GSLS(maxiter=1000)\n",
    "from qiskit.algorithms.optimizers import UMDA\n",
    "\n",
    "optimizer2 = UMDA(maxiter=1000)\n",
    "from qiskit.algorithms.optimizers import NFT\n",
    "\n",
    "optimizer3 = NFT(maxiter=1000)"
   ]
  },
  {
   "cell_type": "markdown",
   "id": "133bf2d6-cbfa-4b26-9637-a3dd1d58e514",
   "metadata": {
    "tags": []
   },
   "source": [
    "GSLS"
   ]
  },
  {
   "cell_type": "code",
   "execution_count": 31,
   "id": "1ac895b0-414f-47b9-a328-6ba12dd39765",
   "metadata": {
    "tags": []
   },
   "outputs": [],
   "source": [
    "# intermediate_info_sim_backend1 = []\n",
    "# def callback_sim1(value):\n",
    "#         intermediate_info_sim_backend1.append(value)\n",
    "# start = time.time()\n",
    "# with Session(service=service, backend=backend) as session:\n",
    "#     # Prepare extended primitive\n",
    "#     rt_estimator = RuntimeEstimator(session=session)\n",
    "#     # set up algorithm\n",
    "#     custom_vqe_gsls = CustomVQE(rt_estimator, ansatz_2local, optimizer1, callback=callback_sim1)\n",
    "#     # run algorithm\n",
    "#     result_gsls = custom_vqe_gsls.compute_minimum_eigenvalue(ham_16)\n",
    "# end = time.time()\n",
    "# print(f'execution time (s): {end - start:.2f}')"
   ]
  },
  {
   "cell_type": "code",
   "execution_count": 32,
   "id": "d9f9960a",
   "metadata": {},
   "outputs": [],
   "source": [
    "# print(intermediate_info_sim_backend1)\n",
    "intermediate_info_sim_backend1x = [5.228, 5.0280000000000005, 5.271000000000001, 5.173, 5.359, 5.308, 5.085000000000001, 5.222, 5.359, 5.197, 5.095, 5.187, 5.272, 4.993000000000001, 5.1530000000000005, 5.270999999999999, 4.906, 4.9479999999999995, 5.228, 5.511999999999999, 5.3469999999999995, 5.246000000000001, 5.148, 5.17, 5.417, 5.241, 5.036, 5.317, 5.355, 5.196, 5.146000000000001, 4.943999999999999, 5.366, 5.248, 4.93, 5.441000000000001, 5.263999999999999, 5.18, 5.117999999999999, 5.225, 5.076, 5.301, 5.148, 5.030000000000001, 5.308, 5.296, 5.696999999999999, 5.299, 5.267999999999999, -3.2940000000000005, 5.2860000000000005, 5.338, 5.009, 5.152, 5.334, 5.068999999999999, 5.424999999999999, 5.146999999999999, 5.058, 4.893000000000001, 5.026000000000001, 5.339, 5.009, 5.357000000000001, 5.008000000000001, 5.088000000000001, 5.34, 5.030999999999999, 5.271000000000001, 5.107000000000001, 5.0729999999999995, 5.006, 5.135, 5.095, 5.162, 5.119, 5.029, 5.242999999999999, 5.162, 4.9990000000000006, 5.057, 5.131, 5.308999999999999, 5.009999999999999, 5.183, 5.291, 5.2620000000000005, 5.462999999999999, 5.112, 4.904999999999999, 5.119, 5.264, 4.948, 5.034, 5.382, 4.909000000000001, 5.343000000000001, 5.0329999999999995, 0.6979999999999997, 5.4350000000000005, 5.382, 5.09, 5.2459999999999996, 5.253, 5.625, 4.709, 4.957, 4.889, 5.096, 5.399000000000001, 5.093, 4.992, 5.335000000000001, 5.106, 5.175, 5.038, 5.109, 5.47, 4.864000000000001, 5.287, 5.110000000000001, 5.086, 5.14, 5.099, 5.106, 5.083, 5.199999999999999, 5.265000000000001, 5.354000000000001, 5.082000000000002, 5.057, 5.074999999999999, 5.068, 4.92, 5.202000000000001, 5.247999999999999, 5.242, 5.259, 5.052, 5.194999999999999, 4.702, 5.082000000000001, 5.245, 5.333, 5.183, 5.312, 4.973, -1.6480000000000001, 5.167000000000001, 5.2700000000000005, 5.1530000000000005, 5.317, 5.125, 5.387999999999999, 4.957, 5.148, 5.162, 5.128, 5.077999999999999, 5.441, 5.182, 5.1480000000000015, 5.0969999999999995, 5.3919999999999995, 5.323, 5.222, 4.855, 5.604000000000001, 5.338, 5.291, 5.301, 5.396999999999999, 5.199000000000001, 5.202, 5.412000000000001, 5.2459999999999996, 4.872, 5.042, 5.349, 5.284, 5.174, 5.287000000000001, 5.215, 5.002000000000001, 5.231, 4.984, 4.9639999999999995, 5.191, 4.924, 4.995000000000001, 5.095, 5.051, 5.106999999999999, 5.314, 5.040000000000001, 5.305999999999999, 1.153, 5.4879999999999995, 4.980999999999999, 5.231999999999999, 5.184, 5.282, 5.396000000000001, 5.364000000000001, 5.256, 5.164000000000001, 5.081000000000001, 4.758, 5.260999999999999, 5.237, 5.333, 5.218, 5.3759999999999994, 5.305000000000001, 5.196, 5.048999999999999, 5.516, 5.226000000000001, 4.9719999999999995, 5.257999999999999, 5.282, 5.286, 5.151999999999999, 5.228, 5.025, 4.946, 5.297, 5.691, 5.254, 4.88, 5.17, 5.146000000000001, 5.303999999999999, 5.319, 5.013000000000001, 4.973, 5.151999999999999, 5.326999999999999, 4.923, 5.1370000000000005, 5.58, 5.298, 5.109, 5.064, 5.303, 1.0230000000000001, 5.017, 5.07, 5.176, 5.005000000000001, 5.353999999999999, 5.295, 4.928000000000001, 5.307999999999999, 5.273999999999999, 5.33, 4.880999999999999, 5.004, 5.093, 5.0569999999999995, 5.146000000000001, 5.057, 5.201, 5.112, 5.0329999999999995, 5.1530000000000005, 5.404, 5.218, 5.002000000000001, 5.057999999999999, 5.324, 5.164, 5.044999999999998, 5.339, 5.312, 4.922, 5.2010000000000005, 5.075, 5.349, 5.223000000000001, 5.227, 5.227, 5.020999999999999, 5.267999999999999, 5.351000000000001, 5.455, 5.167, 5.38, 5.276, 5.1610000000000005, 5.093999999999999, 5.014, 5.4190000000000005, 4.989, 1.4309999999999996, 5.096, 4.943, 5.332, 5.373, 5.166, 5.218999999999999, 5.131, 5.237, 4.958, 5.301, 5.144, 5.258, 5.0809999999999995, 5.059999999999999, 5.032000000000001, 5.0040000000000004, 5.163, 5.340000000000001, 5.049, 5.271999999999999, 5.13, 5.255, 5.095, 5.379, 5.217999999999999, 5.256, 5.246, 5.195, 5.122999999999999, 5.154, 5.199, 5.048, 5.133000000000001, 5.154999999999999, 5.165, 4.982, 5.27, 5.237, 5.317, 5.064, 5.213, 5.111000000000001, 4.994999999999999, 5.2509999999999994, 5.181, 5.083, 5.021000000000001, 5.366999999999999, 1.5890000000000002, 1.7419999999999998, 1.7519999999999998, 1.725, 1.7950000000000002, 1.749, 1.6779999999999995, 1.5709999999999997, 1.6130000000000007, 1.6099999999999999, 1.633, 1.6529999999999998, 1.585, 1.4930000000000003, 1.7379999999999995, 1.657, 1.9060000000000001, 1.7279999999999993, 1.8319999999999999, 1.4880000000000002, 1.8080000000000003, 1.8179999999999996, 1.8370000000000002, 1.6489999999999998, 1.7330000000000003, 1.6270000000000002, 1.6490000000000005, 1.826, 1.7819999999999994, 1.8179999999999996, 1.7899999999999996, 1.6820000000000002, 1.6470000000000002, 1.7010000000000005, 1.5070000000000001, 1.721, 1.9570000000000005, 1.8999999999999995, 1.7299999999999995, 1.632, 1.7109999999999994, 1.8219999999999996, 1.7960000000000005, 1.7540000000000007, 1.7149999999999999, 1.7640000000000002, 1.8599999999999999, 1.4629999999999996, 1.8900000000000006, -0.16799999999999993, 1.8759999999999994, 1.6000000000000005, 1.73, 1.6929999999999998, 1.5910000000000004, 1.7350000000000003, 1.604, 1.82, 1.6469999999999998, 1.5520000000000005, 1.7669999999999995, 1.778, 1.618, 1.4149999999999996, 1.984, 1.8080000000000003, 1.5859999999999999, 1.6550000000000005, 1.5779999999999998, 1.621, 1.754000000000001, 1.6730000000000003, 1.6669999999999998, 1.7160000000000006, 1.8049999999999997, 1.741, 1.5859999999999999, 1.7129999999999999, 1.8899999999999997, 1.6799999999999997, 1.564, 1.8279999999999998, 1.7149999999999999, 1.8539999999999999, 1.8980000000000001, 1.6949999999999994, 1.5469999999999995, 1.7120000000000002, 1.6950000000000005, 1.6590000000000007, 1.7770000000000004, 1.8680000000000003, 1.7299999999999995, 1.7880000000000007, 1.5439999999999996, 1.6819999999999995, 1.6920000000000002, 1.5320000000000005, 2.322, 1.77, 1.7439999999999998, 1.7870000000000004, 1.4410000000000003, 1.6969999999999998, 1.685, 1.575, 1.7730000000000001, 1.7230000000000003, 1.5, 1.6840000000000002, 1.7170000000000005, 1.6749999999999998, 1.5179999999999998, 1.8069999999999997, 1.9160000000000001, 1.5879999999999999, 1.7890000000000001, 1.6809999999999998, 1.6789999999999998, 1.8729999999999998, 1.7239999999999998, 1.8249999999999997, 1.5040000000000004, 1.6740000000000004, 1.581, 1.5969999999999995, 1.6089999999999995, 1.4740000000000002, 1.803, 1.593, 1.4919999999999998, 1.9790000000000005, 1.5569999999999997, 1.5760000000000003, 1.7060000000000002, 1.6119999999999999, 1.7219999999999995, 1.876, 1.672, 1.8639999999999994, 1.859, 1.5849999999999995, 1.644, 1.6060000000000003, 1.897, 1.7400000000000002, 1.601, 1.6069999999999998, 1.552, 1.726, 1.7859999999999998, 1.7370000000000005, 1.7730000000000001, 1.5959999999999996, 1.731, 1.52, 1.6350000000000002, 1.7379999999999995, 1.5850000000000004, 1.6890000000000005, 1.572, 1.878, 1.6359999999999997, 1.6360000000000003, 1.7190000000000003, 1.6189999999999998, 1.6180000000000003, 1.4959999999999996, 1.6140000000000003, 1.7960000000000003, 1.7450000000000006, 1.635, 1.895, 1.822, 1.4379999999999997, 1.8139999999999994, 1.791, 1.8650000000000007, 1.8030000000000002, 1.7240000000000004, 1.7960000000000003, 1.695, 1.641, 1.7679999999999998, 1.8530000000000002, 1.7089999999999999, 1.595, 1.771, 2.011, 1.4739999999999998, 1.658, 1.807, 1.4510000000000007, 1.714, 1.7759999999999994, 1.6920000000000006, -0.23799999999999966, -0.1680000000000001, -0.10799999999999949, -0.11599999999999966, 0.008999999999999564, 0.04200000000000004, -0.06800000000000034, -0.17599999999999993, 0.04899999999999993, 0.05999999999999989, -0.1359999999999999, -0.11299999999999988, -0.06599999999999978, -0.12199999999999978, -0.15500000000000042, -0.13900000000000012, 0.06099999999999972, 0.1070000000000001, -0.0030000000000002247, -0.19400000000000028, -0.09500000000000003, -0.08600000000000019, -0.15300000000000025, -0.029999999999999916, 0.0400000000000002, -0.08000000000000013, -0.20799999999999985, -0.04499999999999954, 0.05600000000000005, -0.19900000000000012, -0.19699999999999995, -0.14800000000000024, -0.1050000000000002, 0.13299999999999979, -0.11099999999999993, -0.04799999999999993, -0.06600000000000017, -0.11999999999999966, 0.007000000000000561, -0.048000000000000154, -0.0810000000000003, -0.05499999999999994, -0.0519999999999996, 0.026999999999999857, -0.1140000000000001, -0.05700000000000016, -0.09300000000000008, -0.30100000000000027, 0.04299999999999976, 0.0029999999999998916, -0.04299999999999993, -0.05700000000000005, -0.15499999999999925, -0.274, -0.010999999999999899, 0.033999999999999586, -0.067, -0.1130000000000001, 0.051999999999999935, -0.023000000000000242, 0.038000000000000644, -0.08899999999999997, -0.1769999999999997, -0.11299999999999999, -0.172, -0.008000000000000673, -0.08499999999999991, -0.09299999999999986, -0.09199999999999942, 0.07399999999999995, -0.23400000000000004, -0.06399999999999983, 0.029000000000000137, -0.12999999999999978, -0.054999999999999716, -0.12299999999999978, 0.019000000000000072, -0.363, 0.028999999999999915, -0.12400000000000022, 0.026999999999999913, -0.2779999999999998, -0.15900000000000036, -0.07500000000000018, -0.23099999999999987, -0.07399999999999962, -0.07199999999999984, -0.22899999999999954, -0.12000000000000055, -0.07699999999999979, -0.08599999999999958, -0.09399999999999997, -0.08099999999999952, 0.06899999999999984, -0.285, 0.025999999999999912, -0.22899999999999976, 0.014000000000000012, -0.2930000000000005, -0.04499999999999993, -0.08899999999999947, -0.02700000000000008, -0.0879999999999998, -0.2770000000000003, -0.19800000000000018, -0.11399999999999999, -0.2480000000000001, -0.14300000000000057, -0.0350000000000002, 0.02200000000000074, -0.01100000000000001, -0.14600000000000046, -0.19299999999999995, -0.1270000000000001, -0.07900000000000007, -0.07099999999999984, -0.3000000000000004, 0.03300000000000014, -0.16199999999999998, 0.08600000000000013, -0.03400000000000003, -0.42900000000000005, -0.04499999999999993, -0.05899999999999961, 0.09299999999999975, -0.07800000000000029, -0.0939999999999998, -0.2320000000000002, -0.04800000000000021, -0.15499999999999958, 0.007000000000000339, -0.05100000000000038, -0.12300000000000016, -0.09600000000000014, -0.01399999999999968, 0.10900000000000015, -0.06700000000000017, -0.01499999999999968, -0.14200000000000013, -0.043999999999999984, -0.03699999999999981, 0.06099999999999933, 0.05299999999999999, -0.15500000000000008, 0.0010000000000000564, -0.0930000000000002, -0.028999999999999915, -0.35099999999999987, -0.21199999999999997, -0.34799999999999986, -0.5350000000000001, -0.35900000000000015, -0.40399999999999936, -0.1090000000000001, -0.2989999999999998, -0.30100000000000005, -0.4639999999999998, -0.36699999999999955, -0.2799999999999996, -0.3300000000000002, -0.25799999999999945, -0.18200000000000016, -0.23599999999999993, -0.3689999999999995, -0.4099999999999999, -0.45499999999999996, -0.5589999999999999, -0.3950000000000001, -0.34099999999999964, -0.2620000000000001, -0.636, -0.3819999999999999, -0.27100000000000035, -0.5069999999999997, -0.2589999999999995, -0.2669999999999997, -0.14599999999999957, -0.3910000000000003, -0.42299999999999993, -0.4509999999999999, -0.24700000000000016, -0.25100000000000033, -0.2929999999999999, -0.3080000000000002, -0.2580000000000001, -0.21400000000000013, -0.4079999999999999, -0.5349999999999999, -0.4480000000000001, -0.4509999999999999, -0.24199999999999955, -0.29999999999999977, -0.49599999999999966, -0.33399999999999985, -0.4219999999999996, -0.5610000000000002, -0.14200000000000046, -0.5179999999999999, -0.1769999999999996, -0.37299999999999983, -0.5030000000000001, -0.42100000000000015, -0.35799999999999993, -0.3100000000000003, -0.12, -0.35799999999999976, -0.372, -0.48299999999999976, -0.5009999999999999, -0.3670000000000001, -0.41000000000000014, -0.34199999999999964, -0.44399999999999995, -0.13100000000000017, -0.3200000000000001, -0.29699999999999993, -0.4059999999999995, -0.3690000000000001, -0.3519999999999999, -0.32700000000000007, -0.2719999999999997, -0.4079999999999998, -0.2769999999999998, -0.35900000000000015, -0.31599999999999995, -0.5150000000000002, -0.23999999999999988, -0.2729999999999997, -0.4450000000000002, -0.2280000000000003, -0.10499999999999954, -0.4750000000000002, -0.41899999999999993, -0.4280000000000004, -0.5209999999999996, -0.4920000000000001, -0.35199999999999937, -0.26699999999999996, -0.3509999999999997, -0.37200000000000005, -0.2929999999999996, -0.39599999999999974, -0.33299999999999996, -0.19099999999999967, -0.41500000000000004, -0.30799999999999994, -0.35899999999999993, -0.2889999999999999, -0.5759999999999998, -0.259, -0.339, -0.4590000000000001, -0.3999999999999997, -0.529, -0.2959999999999998, -0.2260000000000001, -0.3340000000000003, -0.38500000000000006, -0.5939999999999999, -0.3280000000000002, -0.6260000000000003, -0.21899999999999992, -0.3180000000000005, -0.4539999999999999, -0.24199999999999972, -0.266, -0.3619999999999999, -0.28199999999999986, -0.30699999999999994, -0.3959999999999997, -0.3739999999999998, -0.2570000000000007, -0.6, -0.5169999999999999, -0.28399999999999975, -0.10099999999999965, -0.5709999999999998, -0.40100000000000036, -0.4339999999999998, -0.283, -0.4110000000000001, -0.12299999999999994, -0.173, -0.369, -0.2679999999999998, -0.2879999999999999, -0.5449999999999997, -0.30600000000000016, -0.37400000000000044, -0.36099999999999977, -0.4119999999999997, -0.37700000000000033, -0.2680000000000002, -0.405, -0.30400000000000016, -0.26399999999999973, -0.1499999999999999, -0.3810000000000003, -0.46299999999999963, -0.22900000000000015, -0.42899999999999994, -0.33499999999999996, -0.21999999999999983, -0.3260000000000004, -0.47799999999999987, -0.3050000000000002, -0.3749999999999998, -0.4780000000000003, -0.34099999999999986, -0.13600000000000012, -0.4769999999999997, -0.4509999999999998, -0.36399999999999977, -0.585, -0.34299999999999964, -0.6329999999999998, -0.37900000000000006, -0.2729999999999998, -0.4159999999999997, -0.3610000000000004, -0.2609999999999999, -0.19099999999999995, -0.506, -0.28900000000000003, -0.5040000000000004, -0.15600000000000003, -0.42899999999999977, -0.35299999999999987, -0.5019999999999999, -0.35399999999999976, -0.49400000000000005, -0.2870000000000001, -0.27, -0.37200000000000005, -0.4389999999999997, -0.34300000000000036, -0.31399999999999995, -0.386, -0.4680000000000001, -0.2519999999999998, -0.47099999999999964, -0.3290000000000001, -0.28199999999999986, -0.53, -0.3329999999999995, -0.1669999999999997, -0.3839999999999998, -0.5709999999999997, -0.1399999999999998, -0.48400000000000004, -0.29400000000000004, -0.42400000000000004, -0.526, -0.6070000000000001, -0.32399999999999946, -0.26199999999999996, -0.44599999999999995, -0.39500000000000035, -0.18200000000000027, 0.03200000000000014, -0.41199999999999987, -0.3229999999999998, -0.4599999999999996, -0.37699999999999995, -0.44699999999999984, -0.43399999999999983, -0.48599999999999943, -0.40400000000000014, -0.4600000000000001, -0.3710000000000002, -0.46199999999999997, -0.37100000000000016, -0.5809999999999997, -0.39099999999999974, -0.44199999999999984, -0.5139999999999998, -0.3290000000000002, -0.25299999999999984, -0.44799999999999984, -0.25999999999999956, -0.23199999999999993, -0.33899999999999963, -0.39999999999999986, -0.4119999999999999, -0.482, -0.3509999999999997, -0.43099999999999994, -0.45099999999999985, -0.3079999999999996, -0.3429999999999998, -0.25, -0.6169999999999995, -0.4230000000000001, -0.42000000000000004, -0.40099999999999975, -0.3789999999999999, -0.24100000000000033, -0.4770000000000004, -0.3470000000000001, -0.07699999999999962, -0.28600000000000025, -0.31700000000000006, -0.237, -0.357, -0.48899999999999966, -0.3809999999999999, -0.45499999999999985, -0.41300000000000003, -0.29599999999999965, -0.3350000000000001, -0.24299999999999988, -0.32100000000000023, -0.482, -0.273, -0.4220000000000001, -0.4139999999999999, -0.43000000000000016, -0.423, -0.3720000000000001, -0.41200000000000014, -0.398, -0.32599999999999985, -0.14200000000000024, -0.3620000000000002, -0.39099999999999957, -0.30399999999999927, -0.3040000000000005, -0.584, -0.3209999999999999, -0.17599999999999982, -0.3280000000000001, -0.5110000000000001, -0.35599999999999976, -0.4560000000000002, -0.3619999999999999, -0.19700000000000006, -0.0799999999999999, -0.42000000000000015, -0.27500000000000013, -0.16600000000000037, -0.4319999999999997, -0.126, -0.34899999999999953, -0.35400000000000015, -0.29900000000000015, -0.3989999999999997, -0.39800000000000013, -0.2819999999999998, -0.2940000000000002, -0.14400000000000018, -0.4240000000000004, -0.24299999999999966, -0.46099999999999997, -0.479, -0.2590000000000002, -0.4399999999999997, -0.425, -0.27299999999999985, -0.477, -0.1569999999999998, -0.44300000000000017, -0.4319999999999995, -0.10599999999999987, -0.2610000000000001, -0.5819999999999999, -0.5659999999999997, -0.13299999999999962, -0.2669999999999998, -0.37499999999999956, -0.5730000000000003, -0.33199999999999963, -0.4489999999999997, -0.3260000000000004, -0.3120000000000001, -0.3699999999999997, -0.45799999999999996, -0.21400000000000025, -0.4510000000000001, -0.4540000000000002, -0.323, -0.4570000000000001, -0.1639999999999998, -0.3689999999999999, -0.4459999999999996, -0.27100000000000013, -0.20500000000000018, -0.3859999999999998, -0.4900000000000001, -0.5149999999999999, -0.3019999999999995, -0.2750000000000002, -0.2569999999999996, -0.5410000000000001, -0.32199999999999984, -0.28000000000000036, -0.384, -0.522, -0.21899999999999986, -0.3220000000000003, -0.4789999999999998, -0.46399999999999963, -0.35599999999999965, -0.36000000000000004, -0.37600000000000017, -0.3190000000000003, -0.304, -0.3770000000000001, -0.3900000000000001, -0.45299999999999996, -0.18999999999999984, -0.0050000000000002265, -0.4729999999999999, -0.3909999999999999, -0.39400000000000024, -0.3950000000000003, -0.17800000000000016, -0.32799999999999996, -0.19200000000000034, -0.245, -0.49099999999999966, -0.20799999999999985, -0.29300000000000015, -0.35199999999999987, -0.45500000000000007, -0.35299999999999954, -0.18799999999999994, -0.17400000000000004, -0.3360000000000001, -0.47700000000000026, -0.3810000000000002, -0.3940000000000003, -0.5059999999999999, -0.3330000000000001, -0.21699999999999964, -0.43299999999999994, -0.3350000000000001, -0.328, -0.42100000000000026, -0.4029999999999997, -0.3450000000000002, -0.30399999999999994, -0.3699999999999999, -0.5530000000000002, -0.3540000000000003, -0.45199999999999974, -0.4600000000000001, -0.5169999999999999, -0.3110000000000001, -0.32599999999999973, -0.2580000000000002, -0.3989999999999998, -0.34399999999999964, -0.468, -0.32999999999999985, -0.5040000000000002, -0.4449999999999999, -0.2679999999999999, -0.42000000000000004, -0.33299999999999996, -0.2819999999999997, -0.3759999999999999, -0.5100000000000002, -0.37100000000000044, -0.10199999999999998, -0.14500000000000035, -0.5109999999999999, -0.08799999999999986, -0.23699999999999993, -0.24200000000000033, 0.03199999999999992, -0.26100000000000023, -0.34899999999999987, -0.34699999999999964, -0.33899999999999997, -0.30100000000000027, -0.17999999999999983, -0.39599999999999985, -0.48099999999999976, -0.39199999999999957, -0.15699999999999997, -0.2450000000000001, -0.4480000000000002, -0.3089999999999998, -0.3249999999999996, -0.34899999999999987, -0.30699999999999994, -0.37399999999999994, -0.2119999999999998, -0.25299999999999945, -0.383, -0.3149999999999997, -0.2469999999999999, -0.33100000000000007, -0.5330000000000001, -0.392, -0.20399999999999996, -0.2690000000000001, -0.29999999999999993, -0.3359999999999998, -0.5760000000000001, -0.4970000000000001, -0.3870000000000004, -0.45799999999999963, -0.31600000000000006, -0.23599999999999988, -0.31799999999999995, -0.4239999999999998, -0.2059999999999999, -0.4019999999999999, -0.3170000000000006, -0.271, -0.4560000000000002, -0.3549999999999999, -0.47800000000000026, -0.5289999999999999, -0.2559999999999997, -0.44600000000000006, -0.24099999999999966, -0.5709999999999998, -0.45199999999999996, -0.36600000000000016, -0.3130000000000001, -0.307, -0.44500000000000006, -0.34399999999999986, -0.26300000000000034, -0.3759999999999999, -0.46599999999999964, -0.19899999999999984, -0.16800000000000015, -0.2179999999999997, -0.35199999999999976, -0.25, -0.30500000000000044, -0.3819999999999998, -0.3849999999999998, -0.34999999999999987, -0.3499999999999999, -0.3460000000000002, -0.11600000000000016, -0.2100000000000002, -0.47599999999999976, -0.22599999999999987, -0.21699999999999936, -0.3950000000000002, -0.37899999999999984, -0.42599999999999993, -0.22900000000000026, -0.2540000000000003, -0.34400000000000036, -0.20399999999999974, -0.43400000000000016, -0.18499999999999972, -0.3879999999999998, -0.39999999999999997, -0.40800000000000036, -0.34500000000000003, -0.3989999999999996, -0.2480000000000001, -0.3349999999999999, -0.2029999999999998, -0.2579999999999999, -0.32799999999999985, -0.4929999999999997, -0.35599999999999976, -0.492, -0.3040000000000001, -0.4259999999999995, -0.3660000000000001, -0.3719999999999998, -0.24500000000000005, -0.48700000000000004, -0.3079999999999999, -0.2999999999999997, -0.30099999999999993, -0.41400000000000026, -0.43100000000000016, -0.4139999999999999, -0.2510000000000002, -0.2999999999999999, -0.3819999999999997, -0.45500000000000007, -0.5249999999999997, -0.39400000000000035, -0.38600000000000007, -0.2940000000000001, -0.306, -0.32099999999999995, -0.36299999999999993, -0.31599999999999995, -0.2820000000000002, -0.3479999999999998, -0.3160000000000001, -0.3179999999999997, -0.5449999999999997, -0.523, -0.44999999999999984, -0.19500000000000023, -0.3779999999999999, -0.23100000000000054, -0.4009999999999998, -0.426, -0.33199999999999985, -0.2849999999999999, -0.2999999999999998, -0.47299999999999986, -0.24300000000000005, -0.3479999999999998, -0.22999999999999976, -0.32899999999999996, -0.4189999999999997, -0.2999999999999997, -0.32499999999999984, -0.41700000000000004, -0.31300000000000017, -0.255, -0.433, -0.23099999999999987, -0.43000000000000016, -0.23299999999999998, -0.4209999999999999, -0.5609999999999997, -0.30699999999999983, -0.21899999999999975, -0.36300000000000004, -0.31399999999999967, -0.10999999999999932, -0.3889999999999999, -0.2360000000000001, -0.2860000000000004, -0.39299999999999996, -0.5379999999999998, -0.15199999999999986, -0.5309999999999997, -0.2099999999999998, -0.2609999999999995]"
   ]
  },
  {
   "cell_type": "code",
   "execution_count": 34,
   "id": "95e50afb-7aa8-4ac1-aac4-75830417605e",
   "metadata": {
    "tags": []
   },
   "outputs": [
    {
     "ename": "KeyboardInterrupt",
     "evalue": "",
     "output_type": "error",
     "traceback": [
      "\u001b[1;31m---------------------------------------------------------------------------\u001b[0m",
      "\u001b[1;31mKeyboardInterrupt\u001b[0m                         Traceback (most recent call last)",
      "Cell \u001b[1;32mIn[34], line 11\u001b[0m\n\u001b[0;32m      9\u001b[0m     custom_vqe_umda \u001b[39m=\u001b[39m CustomVQE(rt_estimator, ansatz_2local, optimizer2, callback\u001b[39m=\u001b[39mcallback_sim2)\n\u001b[0;32m     10\u001b[0m     \u001b[39m# run algorithm\u001b[39;00m\n\u001b[1;32m---> 11\u001b[0m     result_umda \u001b[39m=\u001b[39m custom_vqe_umda\u001b[39m.\u001b[39;49mcompute_minimum_eigenvalue(ham_16)\n\u001b[0;32m     12\u001b[0m end \u001b[39m=\u001b[39m time\u001b[39m.\u001b[39mtime()\n\u001b[0;32m     13\u001b[0m \u001b[39mprint\u001b[39m(\u001b[39mf\u001b[39m\u001b[39m'\u001b[39m\u001b[39mexecution time (s): \u001b[39m\u001b[39m{\u001b[39;00mend\u001b[39m \u001b[39m\u001b[39m-\u001b[39m\u001b[39m \u001b[39mstart\u001b[39m:\u001b[39;00m\u001b[39m.2f\u001b[39m\u001b[39m}\u001b[39;00m\u001b[39m'\u001b[39m)\n",
      "Cell \u001b[1;32mIn[17], line 32\u001b[0m, in \u001b[0;36mCustomVQE.compute_minimum_eigenvalue\u001b[1;34m(self, operators, aux_operators)\u001b[0m\n\u001b[0;32m     29\u001b[0m x0 \u001b[39m=\u001b[39m np\u001b[39m.\u001b[39mpi\u001b[39m/\u001b[39m\u001b[39m4\u001b[39m \u001b[39m*\u001b[39m np\u001b[39m.\u001b[39mrandom\u001b[39m.\u001b[39mrand(\u001b[39mself\u001b[39m\u001b[39m.\u001b[39m_circuit\u001b[39m.\u001b[39mnum_parameters)\n\u001b[0;32m     31\u001b[0m \u001b[39m# Run optimization\u001b[39;00m\n\u001b[1;32m---> 32\u001b[0m res \u001b[39m=\u001b[39m \u001b[39mself\u001b[39;49m\u001b[39m.\u001b[39;49m_optimizer\u001b[39m.\u001b[39;49mminimize(objective, x0\u001b[39m=\u001b[39;49mx0)\n\u001b[0;32m     34\u001b[0m \u001b[39m# Populate VQE result\u001b[39;00m\n\u001b[0;32m     35\u001b[0m result \u001b[39m=\u001b[39m VQEResult()\n",
      "File \u001b[1;32mc:\\Users\\charu\\psi4conda\\lib\\site-packages\\qiskit\\algorithms\\optimizers\\umda.py:220\u001b[0m, in \u001b[0;36mUMDA.minimize\u001b[1;34m(self, fun, x0, jac, bounds)\u001b[0m\n\u001b[0;32m    215\u001b[0m \u001b[39mself\u001b[39m\u001b[39m.\u001b[39m_generation \u001b[39m=\u001b[39m algorithm_globals\u001b[39m.\u001b[39mrandom\u001b[39m.\u001b[39mnormal(\n\u001b[0;32m    216\u001b[0m     \u001b[39mself\u001b[39m\u001b[39m.\u001b[39m_vector[\u001b[39m0\u001b[39m, :], \u001b[39mself\u001b[39m\u001b[39m.\u001b[39m_vector[\u001b[39m1\u001b[39m, :], [\u001b[39mself\u001b[39m\u001b[39m.\u001b[39m_size_gen, \u001b[39mself\u001b[39m\u001b[39m.\u001b[39m_n_variables]\n\u001b[0;32m    217\u001b[0m )\n\u001b[0;32m    219\u001b[0m \u001b[39mfor\u001b[39;00m _ \u001b[39min\u001b[39;00m \u001b[39mrange\u001b[39m(\u001b[39mself\u001b[39m\u001b[39m.\u001b[39m_maxiter):\n\u001b[1;32m--> 220\u001b[0m     \u001b[39mself\u001b[39;49m\u001b[39m.\u001b[39;49m_check_generation(fun)\n\u001b[0;32m    221\u001b[0m     \u001b[39mself\u001b[39m\u001b[39m.\u001b[39m_truncation()\n\u001b[0;32m    222\u001b[0m     \u001b[39mself\u001b[39m\u001b[39m.\u001b[39m_update_vector()\n",
      "File \u001b[1;32mc:\\Users\\charu\\psi4conda\\lib\\site-packages\\qiskit\\algorithms\\optimizers\\umda.py:182\u001b[0m, in \u001b[0;36mUMDA._check_generation\u001b[1;34m(self, objective_function)\u001b[0m\n\u001b[0;32m    180\u001b[0m \u001b[39mdef\u001b[39;00m \u001b[39m_check_generation\u001b[39m(\u001b[39mself\u001b[39m, objective_function):\n\u001b[0;32m    181\u001b[0m \u001b[39m    \u001b[39m\u001b[39m\"\"\"Check the cost of each individual in the cost function implemented by the user.\"\"\"\u001b[39;00m\n\u001b[1;32m--> 182\u001b[0m     \u001b[39mself\u001b[39m\u001b[39m.\u001b[39m_evaluations \u001b[39m=\u001b[39m np\u001b[39m.\u001b[39;49mapply_along_axis(objective_function, \u001b[39m1\u001b[39;49m, \u001b[39mself\u001b[39;49m\u001b[39m.\u001b[39;49m_generation)\n",
      "File \u001b[1;32m<__array_function__ internals>:180\u001b[0m, in \u001b[0;36mapply_along_axis\u001b[1;34m(*args, **kwargs)\u001b[0m\n",
      "File \u001b[1;32mc:\\Users\\charu\\psi4conda\\lib\\site-packages\\numpy\\lib\\shape_base.py:402\u001b[0m, in \u001b[0;36mapply_along_axis\u001b[1;34m(func1d, axis, arr, *args, **kwargs)\u001b[0m\n\u001b[0;32m    400\u001b[0m buff[ind0] \u001b[39m=\u001b[39m res\n\u001b[0;32m    401\u001b[0m \u001b[39mfor\u001b[39;00m ind \u001b[39min\u001b[39;00m inds:\n\u001b[1;32m--> 402\u001b[0m     buff[ind] \u001b[39m=\u001b[39m asanyarray(func1d(inarr_view[ind], \u001b[39m*\u001b[39;49margs, \u001b[39m*\u001b[39;49m\u001b[39m*\u001b[39;49mkwargs))\n\u001b[0;32m    404\u001b[0m \u001b[39mif\u001b[39;00m \u001b[39mnot\u001b[39;00m \u001b[39misinstance\u001b[39m(res, matrix):\n\u001b[0;32m    405\u001b[0m     \u001b[39m# wrap the array, to preserve subclasses\u001b[39;00m\n\u001b[0;32m    406\u001b[0m     buff \u001b[39m=\u001b[39m res\u001b[39m.\u001b[39m__array_wrap__(buff)\n",
      "Cell \u001b[1;32mIn[17], line 20\u001b[0m, in \u001b[0;36mCustomVQE.compute_minimum_eigenvalue.<locals>.objective\u001b[1;34m(x)\u001b[0m\n\u001b[0;32m     18\u001b[0m job \u001b[39m=\u001b[39m \u001b[39mself\u001b[39m\u001b[39m.\u001b[39m_estimator\u001b[39m.\u001b[39mrun([\u001b[39mself\u001b[39m\u001b[39m.\u001b[39m_circuit], [operators], [x])\n\u001b[0;32m     19\u001b[0m \u001b[39m# Get results from jobs\u001b[39;00m\n\u001b[1;32m---> 20\u001b[0m est_result \u001b[39m=\u001b[39m job\u001b[39m.\u001b[39;49mresult()\n\u001b[0;32m     21\u001b[0m \u001b[39m# Get the measured energy value\u001b[39;00m\n\u001b[0;32m     22\u001b[0m value \u001b[39m=\u001b[39m est_result\u001b[39m.\u001b[39mvalues[\u001b[39m0\u001b[39m]\n",
      "File \u001b[1;32mc:\\Users\\charu\\psi4conda\\lib\\site-packages\\qiskit_ibm_runtime\\runtime_job.py:221\u001b[0m, in \u001b[0;36mRuntimeJob.result\u001b[1;34m(self, timeout, decoder)\u001b[0m\n\u001b[0;32m    219\u001b[0m _decoder \u001b[39m=\u001b[39m decoder \u001b[39mor\u001b[39;00m \u001b[39mself\u001b[39m\u001b[39m.\u001b[39m_final_result_decoder\n\u001b[0;32m    220\u001b[0m \u001b[39mif\u001b[39;00m \u001b[39mself\u001b[39m\u001b[39m.\u001b[39m_results \u001b[39mis\u001b[39;00m \u001b[39mNone\u001b[39;00m \u001b[39mor\u001b[39;00m (_decoder \u001b[39m!=\u001b[39m \u001b[39mself\u001b[39m\u001b[39m.\u001b[39m_final_result_decoder):\n\u001b[1;32m--> 221\u001b[0m     \u001b[39mself\u001b[39;49m\u001b[39m.\u001b[39;49mwait_for_final_state(timeout\u001b[39m=\u001b[39;49mtimeout)\n\u001b[0;32m    222\u001b[0m     \u001b[39mif\u001b[39;00m \u001b[39mself\u001b[39m\u001b[39m.\u001b[39m_status \u001b[39m==\u001b[39m JobStatus\u001b[39m.\u001b[39mERROR:\n\u001b[0;32m    223\u001b[0m         error_message \u001b[39m=\u001b[39m \u001b[39mself\u001b[39m\u001b[39m.\u001b[39merror_message()\n",
      "File \u001b[1;32mc:\\Users\\charu\\psi4conda\\lib\\site-packages\\qiskit_ibm_runtime\\runtime_job.py:310\u001b[0m, in \u001b[0;36mRuntimeJob.wait_for_final_state\u001b[1;34m(self, timeout)\u001b[0m\n\u001b[0;32m    306\u001b[0m     \u001b[39mself\u001b[39m\u001b[39m.\u001b[39m_ws_client_future \u001b[39m=\u001b[39m \u001b[39mself\u001b[39m\u001b[39m.\u001b[39m_executor\u001b[39m.\u001b[39msubmit(\n\u001b[0;32m    307\u001b[0m         \u001b[39mself\u001b[39m\u001b[39m.\u001b[39m_start_websocket_client\n\u001b[0;32m    308\u001b[0m     )\n\u001b[0;32m    309\u001b[0m \u001b[39mif\u001b[39;00m \u001b[39mself\u001b[39m\u001b[39m.\u001b[39m_is_streaming():\n\u001b[1;32m--> 310\u001b[0m     \u001b[39mself\u001b[39;49m\u001b[39m.\u001b[39;49m_ws_client_future\u001b[39m.\u001b[39;49mresult(timeout)\n\u001b[0;32m    311\u001b[0m \u001b[39m# poll for status after stream has closed until status is final\u001b[39;00m\n\u001b[0;32m    312\u001b[0m \u001b[39m# because status doesn't become final as soon as stream closes\u001b[39;00m\n\u001b[0;32m    313\u001b[0m status \u001b[39m=\u001b[39m \u001b[39mself\u001b[39m\u001b[39m.\u001b[39mstatus()\n",
      "File \u001b[1;32mc:\\Users\\charu\\psi4conda\\lib\\concurrent\\futures\\_base.py:439\u001b[0m, in \u001b[0;36mFuture.result\u001b[1;34m(self, timeout)\u001b[0m\n\u001b[0;32m    436\u001b[0m \u001b[39melif\u001b[39;00m \u001b[39mself\u001b[39m\u001b[39m.\u001b[39m_state \u001b[39m==\u001b[39m FINISHED:\n\u001b[0;32m    437\u001b[0m     \u001b[39mreturn\u001b[39;00m \u001b[39mself\u001b[39m\u001b[39m.\u001b[39m__get_result()\n\u001b[1;32m--> 439\u001b[0m \u001b[39mself\u001b[39;49m\u001b[39m.\u001b[39;49m_condition\u001b[39m.\u001b[39;49mwait(timeout)\n\u001b[0;32m    441\u001b[0m \u001b[39mif\u001b[39;00m \u001b[39mself\u001b[39m\u001b[39m.\u001b[39m_state \u001b[39min\u001b[39;00m [CANCELLED, CANCELLED_AND_NOTIFIED]:\n\u001b[0;32m    442\u001b[0m     \u001b[39mraise\u001b[39;00m CancelledError()\n",
      "File \u001b[1;32mc:\\Users\\charu\\psi4conda\\lib\\threading.py:302\u001b[0m, in \u001b[0;36mCondition.wait\u001b[1;34m(self, timeout)\u001b[0m\n\u001b[0;32m    300\u001b[0m \u001b[39mtry\u001b[39;00m:    \u001b[39m# restore state no matter what (e.g., KeyboardInterrupt)\u001b[39;00m\n\u001b[0;32m    301\u001b[0m     \u001b[39mif\u001b[39;00m timeout \u001b[39mis\u001b[39;00m \u001b[39mNone\u001b[39;00m:\n\u001b[1;32m--> 302\u001b[0m         waiter\u001b[39m.\u001b[39;49macquire()\n\u001b[0;32m    303\u001b[0m         gotit \u001b[39m=\u001b[39m \u001b[39mTrue\u001b[39;00m\n\u001b[0;32m    304\u001b[0m     \u001b[39melse\u001b[39;00m:\n",
      "\u001b[1;31mKeyboardInterrupt\u001b[0m: "
     ]
    }
   ],
   "source": [
    "# intermediate_info_sim_backend2 = []\n",
    "# def callback_sim2(value):\n",
    "#         intermediate_info_sim_backend2.append(value)\n",
    "# start = time.time()\n",
    "# with Session(service=service, backend=backend) as session:\n",
    "#     # Prepare extended primitive\n",
    "#     rt_estimator = RuntimeEstimator(session=session)\n",
    "#     # set up algorithm\n",
    "#     custom_vqe_umda = CustomVQE(rt_estimator, ansatz_2local, optimizer2, callback=callback_sim2)\n",
    "#     # run algorithm\n",
    "#     result_umda = custom_vqe_umda.compute_minimum_eigenvalue(ham_16)\n",
    "# end = time.time()\n",
    "# print(f'execution time (s): {end - start:.2f}')"
   ]
  },
  {
   "cell_type": "code",
   "execution_count": null,
   "id": "6262735c-50bf-4ff4-9c08-fa84c951ded0",
   "metadata": {
    "tags": []
   },
   "outputs": [
    {
     "name": "stdout",
     "output_type": "stream",
     "text": [
      "execution time (s): 765.88\n"
     ]
    }
   ],
   "source": [
    "# intermediate_info_sim_backend3 = []\n",
    "# def callback_sim3(value):\n",
    "#         intermediate_info_sim_backend3.append(value)\n",
    "# start = time.time()\n",
    "# with Session(service=service, backend=backend) as session:\n",
    "#     # Prepare extended primitive\n",
    "#     rt_estimator = RuntimeEstimator(session=session)\n",
    "#     # set up algorithm\n",
    "#     custom_vqe_nft = CustomVQE(rt_estimator, ansatz_2local, optimizer3, callback=callback_sim3)\n",
    "#     # run algorithm\n",
    "#     result_nft = custom_vqe_nft.compute_minimum_eigenvalue(ham_16)\n",
    "# end = time.time()\n",
    "# print(f'execution time (s): {end - start:.2f}')"
   ]
  },
  {
   "cell_type": "code",
   "execution_count": null,
   "id": "0ed0f28d",
   "metadata": {},
   "outputs": [
    {
     "name": "stdout",
     "output_type": "stream",
     "text": [
      "execution time (s): 295.66\n"
     ]
    }
   ],
   "source": [
    "# from qiskit.algorithms.optimizers import COBYLA\n",
    "# optimizer4 = COBYLA(maxiter=1000)\n",
    "# intermediate_info_sim_backend4 = []\n",
    "# def callback_sim4(value):\n",
    "#         intermediate_info_sim_backend4.append(value)\n",
    "# start = time.time()\n",
    "# with Session(service=service, backend=backend) as session:\n",
    "#     # Prepare extended primitive\n",
    "#     rt_estimator = RuntimeEstimator(session=session)\n",
    "#     # set up algorithm\n",
    "#     custom_vqe_cobyla = CustomVQE(rt_estimator, ansatz_2local, optimizer4, callback=callback_sim4)\n",
    "#     # run algorithm\n",
    "#     result_cobyla = custom_vqe_cobyla.compute_minimum_eigenvalue(ham_16)\n",
    "# end = time.time()\n",
    "# print(f'execution time (s): {end - start:.2f}')"
   ]
  },
  {
   "cell_type": "code",
   "execution_count": 2,
   "id": "556dde36-7e90-4428-8618-ebca6b06a3bb",
   "metadata": {},
   "outputs": [
    {
     "ename": "NameError",
     "evalue": "name 'gs_energy' is not defined",
     "output_type": "error",
     "traceback": [
      "\u001b[1;31m---------------------------------------------------------------------------\u001b[0m",
      "\u001b[1;31mNameError\u001b[0m                                 Traceback (most recent call last)",
      "Cell \u001b[1;32mIn[2], line 11\u001b[0m\n\u001b[0;32m      9\u001b[0m plt\u001b[39m.\u001b[39mylabel(\u001b[39m'\u001b[39m\u001b[39mEnergy\u001b[39m\u001b[39m'\u001b[39m)\n\u001b[0;32m     10\u001b[0m plt\u001b[39m.\u001b[39mxlabel(\u001b[39m'\u001b[39m\u001b[39mIterations\u001b[39m\u001b[39m'\u001b[39m)\n\u001b[1;32m---> 11\u001b[0m plt\u001b[39m.\u001b[39maxhline(y\u001b[39m=\u001b[39mgs_energy, color\u001b[39m=\u001b[39m\u001b[39m\"\u001b[39m\u001b[39mtab:red\u001b[39m\u001b[39m\"\u001b[39m, ls\u001b[39m=\u001b[39m\u001b[39m\"\u001b[39m\u001b[39m--\u001b[39m\u001b[39m\"\u001b[39m, lw\u001b[39m=\u001b[39m\u001b[39m2\u001b[39m, label\u001b[39m=\u001b[39m\u001b[39m\"\u001b[39m\u001b[39mTarget: \u001b[39m\u001b[39m\"\u001b[39m \u001b[39m+\u001b[39m \u001b[39mstr\u001b[39m(gs_energy))\n\u001b[0;32m     12\u001b[0m plt\u001b[39m.\u001b[39mlegend()\n\u001b[0;32m     13\u001b[0m plt\u001b[39m.\u001b[39mgrid()\n",
      "\u001b[1;31mNameError\u001b[0m: name 'gs_energy' is not defined"
     ]
    },
    {
     "data": {
      "image/png": "[encoded data removed]",
      "text/plain": [
       "<Figure size 640x480 with 1 Axes>"
      ]
     },
     "metadata": {},
     "output_type": "display_data"
    }
   ],
   "source": [
    "import matplotlib.pyplot as plt\n",
    "plt.plot(intermediate_info_sim_backendx, color='purple', lw=2, label='VQE with NFT, TwoLocal, UI=9')\n",
    "# plt.plot(intermediate_info_sim_backend1x, color='cyan', lw=2, label='GSLS')\n",
    "# plt.plot(intermediate_info_sim_backend2x, color='pink', lw=2, label='UMDA')\n",
    "# plt.plot(intermediate_info_sim_backend3, color='magenta', lw=2, label='NFT')\n",
    "# plt.plot(intermediate_info_sim_backend4, color='blue', lw=2, label='COBYLA')\n",
    "\n",
    "\n",
    "plt.ylabel('Energy')\n",
    "plt.xlabel('Iterations')\n",
    "plt.axhline(y=gs_energy, color=\"tab:red\", ls=\"--\", lw=2, label=\"Target: \" + str(gs_energy))\n",
    "plt.legend()\n",
    "plt.grid()\n",
    "plt.show()"
   ]
  },
  {
   "cell_type": "code",
   "execution_count": null,
   "id": "5ac1e90f-ef40-45e9-85ec-64e9c3e96150",
   "metadata": {},
   "outputs": [
    {
     "name": "stdout",
     "output_type": "stream",
     "text": [
      "Expected ground state energy: -18.0000000000\n",
      "Computed ground state energy SPSA: -17.9860000000\n",
      "Computed ground state energy GSLS: -0.5300000000\n",
      "Relative error SPSA: 0.00077778\n",
      "Relative error GSLS: 0.97055556\n"
     ]
    }
   ],
   "source": [
    "# Compute the relative error between the expected ground state energy and the measured\n",
    "def rel_err(target, measured):\n",
    "    return abs((target - measured) / target)\n",
    "rel_error_spsa = rel_err(gs_energy, result_spsa.eigenvalue)\n",
    "rel_error_gsls = rel_err(gs_energy, result_gsls.eigenvalue)\n",
    "rel_error_umda = rel_err(gs_energy, result_umda.eigenvalue)\n",
    "# rel_error_nft = rel_err(gs_energy, result_nft.eigenvalue)\n",
    "# rel_error_cobyla = rel_err(gs_energy, result_cobyla.eigenvalue)\n",
    "print(f'Expected ground state energy: {gs_energy:.10f}')\n",
    "print(f'Computed ground state energy SPSA: {result_spsa.eigenvalue:.10f}')\n",
    "print(f'Computed ground state energy GSLS: {result_gsls.eigenvalue:.10f}')\n",
    "print(f'Computed ground state energy UMDA: {result_umda.eigenvalue:.10f}')\n",
    "# print(f'Computed ground state energy NFT: {result_nft.eigenvalue:.10f}')\n",
    "# print(f'Computed ground state energy COBYLA: {result_cobyla.eigenvalue:.10f}')\n",
    "print(f'Relative error SPSA: {rel_error_spsa:.8f}')\n",
    "print(f'Relative error GSLS: {rel_error_gsls:.8f}')\n",
    "print(f'Relative error UMDA: {rel_error_umda:.8f}')\n",
    "# print(f'Relative error NFT: {rel_error_nft:.8f}')\n",
    "# print(f'Relative error COBYLA: {rel_error_cobyla:.8f}')"
   ]
  },
  {
   "cell_type": "code",
   "execution_count": null,
   "id": "3f63e880-5389-409f-a4ee-b007b16b3372",
   "metadata": {},
   "outputs": [],
   "source": []
  },
  {
   "cell_type": "code",
   "execution_count": null,
   "id": "7d2301e8-912b-46c8-a4e8-ff017ae905cd",
   "metadata": {},
   "outputs": [],
   "source": []
  },
  {
   "cell_type": "code",
   "execution_count": null,
   "id": "9925cf63-088c-421d-995b-98691595e864",
   "metadata": {
    "tags": []
   },
   "outputs": [],
   "source": [
    "# # Define a simple callback function\n",
    "# intermediate_info_real_backend = []\n",
    "# def callback_real(value):\n",
    "#         intermediate_info_real_backend.append(value)"
   ]
  },
  {
   "cell_type": "code",
   "execution_count": null,
   "id": "3be7fe16-6208-4e07-aa69-845baa874257",
   "metadata": {
    "tags": []
   },
   "outputs": [],
   "source": [
    "# # Setup Estimator (standard method)\n",
    "# optimizer = SPSA(maxiter=75)\n",
    "# start = time.time()\n",
    "# with Session(backend=backend) as session:\n",
    "#     # Prepare primitive\n",
    "#     rt_estimator = RetryEstimator(session=session)\n",
    "#     # Set up algorithm\n",
    "#     custom_vqe = CustomVQE(rt_estimator, ansatz_opt, optimizer, callback=callback_real)\n",
    "#     # Run algorithm\n",
    "#     result = custom_vqe.compute_minimum_eigenvalue(ham_16)\n",
    "# end = time.time()\n",
    "# print(f'execution time (s): {end - start:.2f}')"
   ]
  },
  {
   "cell_type": "code",
   "execution_count": null,
   "id": "70ea0cd7-d899-4d14-b717-2162cbeddc99",
   "metadata": {},
   "outputs": [],
   "source": [
    "# plt.plot(intermediate_info_sim_backend, color='purple', lw=2, label='Simulated VQE')\n",
    "# plt.ylabel('Energy')\n",
    "# plt.xlabel('Iterations')\n",
    "# plt.axhline(y=gs_energy, color=\"tab:red\", ls=\"--\", lw=2, label=\"Target: \" + str(gs_energy))\n",
    "# plt.legend()\n",
    "# plt.grid()\n",
    "# plt.show()"
   ]
  },
  {
   "cell_type": "code",
   "execution_count": null,
   "id": "1229567e-b18f-4628-8fd7-56652ae704d5",
   "metadata": {
    "tags": []
   },
   "outputs": [],
   "source": [
    "# # Compute the relative error between the expected ground state energy and the measured\n",
    "# rel_error = rel_err(gs_energy, result.eigenvalue)\n",
    "\n",
    "# print(f'Expected ground state energy: {gs_energy:.10f}')\n",
    "# print(f'Computed ground state energy: {result.eigenvalue:.10f}')\n",
    "# print(f'Relative error: {rel_error:.8f}')"
   ]
  },
  {
   "cell_type": "markdown",
   "id": "968daf3c-f592-4ae3-88e8-6a64aa93b5ad",
   "metadata": {},
   "source": [
    "## 3-2 Qiskit runtime Real backend (ibmq_guadalupe)\n",
    "\n",
    "If our `qiskit_ibm_runtime` code is working on the cloud simulator backend, we can simply change the backend to the ibmq_guadalupe to run on the real backend. This may take a couple hours. Your performance score will be determined by the calculated relative error between the true ground state energy of -18.0 and the measured energy from the real ibmq_guadalupe backend."
   ]
  },
  {
   "cell_type": "code",
   "execution_count": null,
   "id": "83f6c305-e4f9-4c45-914a-7d59f4a2d98e",
   "metadata": {
    "tags": []
   },
   "outputs": [],
   "source": [
    "# from qiskit.providers.fake_provider import FakeGuadalupe\n",
    "# from qiskit_aer.noise import NoiseModel\n",
    "# from qiskit_ibm_runtime import QiskitRuntimeService, Sampler, Estimator, Session, Options\n",
    "\n",
    "# # Make a noise model\n",
    "# fake_backend = FakeGuadalupe()\n",
    "# noise_model = NoiseModel.from_backend(fake_backend)\n",
    "\n",
    "# # Set options to include the noise model\n",
    "# options = Options()\n",
    "# options.simulator = {\n",
    "#     \"noise_model\": noise_model,\n",
    "#     \"basis_gates\": fake_backend.configuration().basis_gates,\n",
    "#     \"coupling_map\": fake_backend.configuration().coupling_map,\n",
    "#     \"seed_simulator\": 42\n",
    "# }\n",
    "\n",
    "# # Set number of shots, optimization_level and resilience_level\n",
    "# options.execution.shots = 1000\n",
    "# options.optimization_level = 0\n",
    "# options.resilience_level = 0"
   ]
  },
  {
   "cell_type": "code",
   "execution_count": null,
   "id": "08a423fc-f865-4996-9cfa-6285b696ff54",
   "metadata": {
    "tags": []
   },
   "outputs": [],
   "source": [
    "# # Set options to include the noise model with error mitigation\n",
    "# options_with_em = Options()\n",
    "# options_with_em.simulator = {\n",
    "#     \"noise_model\": noise_model,\n",
    "#     \"basis_gates\": fake_backend.configuration().basis_gates,\n",
    "#     \"coupling_map\": fake_backend.configuration().coupling_map,\n",
    "#     \"seed_simulator\": 42\n",
    "# }\n",
    "\n",
    "# # Set number of shots, optimization_level and resilience_level\n",
    "# options_with_em.execution.shots = 1000\n",
    "# options_with_em.optimization_level = 0 # no optimization\n",
    "# options_with_em.resilience_level = 1 # M3 for Sampler and ZNE for Estimator"
   ]
  },
  {
   "cell_type": "code",
   "execution_count": null,
   "id": "25fb852f-b75d-4b16-9779-f497d326bcb5",
   "metadata": {},
   "outputs": [],
   "source": [
    "# # Set options to include the noise model with error mitigation\n",
    "# options_with_zne = Options()\n",
    "# options_with_zne.simulator = {\n",
    "#     \"noise_model\": noise_model,\n",
    "#     \"basis_gates\": fake_backend.configuration().basis_gates,\n",
    "#     \"coupling_map\": fake_backend.configuration().coupling_map,\n",
    "#     \"seed_simulator\": 42\n",
    "# }\n",
    "\n",
    "# # Set number of shots, optimization_level and resilience_level\n",
    "# options_with_zne.execution.shots = 1000\n",
    "# options_with_zne.optimization_level = 0 # no optimization\n",
    "# options_with_zne.resilience_level = 2 # M3 for Sampler and T-REx for Estimator"
   ]
  },
  {
   "cell_type": "code",
   "execution_count": null,
   "id": "edfea1b3-1452-452c-ab57-dbab5d08452a",
   "metadata": {
    "tags": []
   },
   "outputs": [],
   "source": [
    "# with Session(service=service, backend=backend):\n",
    "#     # include the noise model without M3\n",
    "#     sampler = Sampler(options=options)\n",
    "#     job = sampler.run(\n",
    "#         circuits=[ansatz_opt]*len(phases),\n",
    "#         parameter_values=individual_phases\n",
    "#     )\n",
    "#     result = job.result()\n",
    "#     prob_values = [1-dist[0] for dist in result.quasi_dists]\n",
    "\n",
    "#     # include the noise model with M3\n",
    "#     sampler = Sampler(options=options_with_em)\n",
    "#     job = sampler.run(\n",
    "#         circuits=[qc]*len(phases),\n",
    "#         parameter_values=individual_phases\n",
    "#     )\n",
    "#     result = job.result()\n",
    "#     prob_values_with_em = [1-dist[0] for dist in result.quasi_dists]\n",
    "    \n",
    "    \n",
    "# with Session(service=service, backend=backend):\n",
    "#     # include the noise model without T-REx\n",
    "#     estimator = Estimator(options=options)\n",
    "#     job = estimator.run(\n",
    "#         circuits=[qc_no_meas]*len(phases),\n",
    "#         parameter_values=individual_phases,\n",
    "#         observables=[ZZ]*len(phases)\n",
    "#     )\n",
    "#     result = job.result()\n",
    "#     exp_values = result.values\n",
    "\n",
    "#     # include the noise model with T-REx\n",
    "#     estimator = Estimator(options=options_with_em)\n",
    "#     job = estimator.run(\n",
    "#         circuits=[qc_no_meas]*len(phases),\n",
    "#         parameter_values=individual_phases,\n",
    "#         observables=[ZZ]*len(phases))\n",
    "#     result = job.result()\n",
    "#     exp_values_with_em = result.values"
   ]
  },
  {
   "cell_type": "code",
   "execution_count": null,
   "id": "48bf02ab-70ec-478e-bfdf-e3fd6be0253b",
   "metadata": {},
   "outputs": [],
   "source": []
  },
  {
   "cell_type": "code",
   "execution_count": null,
   "id": "6af0f119-4352-4e2f-8817-e74b152184a6",
   "metadata": {},
   "outputs": [],
   "source": []
  },
  {
   "cell_type": "code",
   "execution_count": null,
   "id": "aa41815b-1d06-4dab-94bc-b998a44c6f9d",
   "metadata": {},
   "outputs": [],
   "source": []
  },
  {
   "cell_type": "code",
   "execution_count": null,
   "id": "debb54e8-9f25-4f68-b56d-00b794d2b9df",
   "metadata": {},
   "outputs": [],
   "source": []
  },
  {
   "cell_type": "code",
   "execution_count": null,
   "id": "4c1f3559-eb08-40a0-ad7e-9a6b2f1bb40d",
   "metadata": {
    "tags": []
   },
   "outputs": [],
   "source": [
    "# service = QiskitRuntimeService(channel='ibm_quantum')\n",
    "# #service = QiskitRuntimeService(\n",
    "# #     channel='ibm_quantum',\n",
    "# #     instance='ibm-q-community/ibmquantumawards/open-science-22',\n",
    "# # )\n",
    "# provider = IBMQ.load_account()\n",
    "# backend = 'FakeGuadalupe'"
   ]
  },
  {
   "cell_type": "code",
   "execution_count": null,
   "id": "b0270a9d-996e-4230-a063-0fd22aa1a7bd",
   "metadata": {
    "tags": []
   },
   "outputs": [],
   "source": [
    "# import signal, time\n",
    "\n",
    "# from qiskit_ibm_runtime import Estimator, Session\n",
    "# from qiskit.providers import JobStatus\n",
    "\n",
    "# def timeout_handler(signum, frame):\n",
    "#     raise Exception('Iteration timed out')\n",
    "    \n",
    "# class RetryEstimator(Estimator):\n",
    "#     \"\"\"RuntimeRetryEstimator class.\n",
    "    \n",
    "#     This class inherits from Qiskit IBM Runtime's Estimator and overwrites its run method such that it retries calling it\n",
    "#     a maximum of 'max_retries' consecutive times, if it encounters one of the following randomly occuring errors:\n",
    "    \n",
    "#     * An Estimator error (in this case \"Job.ERROR\" is printed, and the job is cancelled automatically)\n",
    "#     * A timeout error where the job either remains running or completes but does not return anything, for a time larger \n",
    "#       than 'timeout' (in this case the job is cancelled by the patch and \"Job.CANCELLED\" is printed)\n",
    "#     * A creation error, where the job fails to be created because connection is lost between the runtime server and the\n",
    "#       quantum computer (in this case \"Failed to create job.\" is printed). If this error occurs, the patch connects the user\n",
    "#       to a new Session (to be handled with care! also, this will unfortunately put the next job in the queue). \n",
    "#     \"\"\"\n",
    "    \n",
    "#     def __init__(self, *args, max_retries: int = 5, timeout: int = 3600, **kwargs) -> None:\n",
    "#         super().__init__(*args, **kwargs)\n",
    "#         self.max_retries = max_retries\n",
    "#         self.timeout = timeout\n",
    "#         self.backend = super().session._backend\n",
    "#         signal.signal(signal.SIGALRM, timeout_handler)\n",
    "    \n",
    "#     def run(self, circuits, observables, parameter_values, **kwargs):\n",
    "#         result = None\n",
    "#         for i in range(self.max_retries):\n",
    "#             try:\n",
    "#                 job = super().run(circuits, observables, parameter_values, **kwargs)\n",
    "#                 while job.status() in [JobStatus.INITIALIZING, JobStatus.QUEUED, JobStatus.VALIDATING]:\n",
    "#                     time.sleep(5) # Check every 5 seconds whether job status has changed\n",
    "#                 signal.alarm(self.timeout) # Once job starts running, set timeout to 1 hour by default\n",
    "#                 result = job.result()\n",
    "#                 if result is not None:\n",
    "#                     signal.alarm(0) # reset timer\n",
    "#                     return job\n",
    "#             except Exception as e:\n",
    "#                 print(\"\\nSomething went wrong...\")\n",
    "#                 print(f\"\\n\\nERROR MESSAGE:\\n{e}\\n\\n\")\n",
    "#                 if 'job' in locals(): # Sometimes job fails to create\n",
    "#                     print(f\"Job ID: {job.job_id}. Job status: {job.status()}.\")\n",
    "#                     if job.status() not in [JobStatus.DONE, JobStatus.ERROR, JobStatus.CANCELLED]:\n",
    "#                         job.cancel()\n",
    "#                 else:\n",
    "#                     print(\"Failed to create job.\")\n",
    "#                 print(f\"Starting trial number {i+2}...\\n\")\n",
    "#                 print(f\"Creating new session...\\n\")\n",
    "#                 signal.alarm(0) # reset timer\n",
    "#                 super().session.close()\n",
    "#                 self._session = Session(backend=self.backend)\n",
    "#         if result is None:\n",
    "#             raise RuntimeError(f\"Program failed! Maximum number of retries ({self.max_retries}) exceeded\")"
   ]
  },
  {
   "cell_type": "code",
   "execution_count": null,
   "id": "f9d08c41-806d-4222-89a5-c1f9e025635e",
   "metadata": {
    "tags": []
   },
   "outputs": [],
   "source": [
    "# # Setup Estimator with session error handling reconnection work around\n",
    "# start = time.time()\n",
    "# with Session(service=service, backend=backend) as session:\n",
    "#     # Prepare extended primitive\n",
    "#     rt_estimator = RetryEstimator(options=options)\n",
    "#     # set up algorithm\n",
    "#     custom_vqe = CustomVQE(rt_estimator, ansatz_opt, optimizer, callback=callback_real)\n",
    "#     # run algorithm\n",
    "#     result = custom_vqe.compute_minimum_eigenvalue(ham_16)\n",
    "# end = time.time()\n",
    "# print(f'execution time (s): {end - start:.2f}')"
   ]
  },
  {
   "cell_type": "code",
   "execution_count": null,
   "id": "95b2a311-0acd-4a9f-b915-2733e08f4d50",
   "metadata": {
    "tags": []
   },
   "outputs": [],
   "source": [
    "# # Setup Estimator\n",
    "# start = time.time()\n",
    "# with Session(backend=backend) as session:\n",
    "#     # Prepare primitive\n",
    "#     rt_estimator = RuntimeEstimator(session=session)\n",
    "#     # set up algorithm\n",
    "#     custom_vqe = CustomVQE(rt_estimator, ansatz_opt, optimizer, callback=callback_real)\n",
    "#     # run algorithm\n",
    "#     result = custom_vqe.compute_minimum_eigenvalue(ham_16)\n",
    "# end = time()\n",
    "# print(f'execution time (s): {end - start:.2f}')"
   ]
  },
  {
   "cell_type": "code",
   "execution_count": null,
   "id": "a0a9c908-d6bf-4e6a-ac77-dc130c7667db",
   "metadata": {},
   "outputs": [],
   "source": [
    "# plt.plot(intermediate_info_real_backend, color='purple', lw=2, label='VQE')\n",
    "# plt.ylabel('Energy')\n",
    "# plt.xlabel('Iterations')\n",
    "# plt.axhline(y=gs_energy, color=\"tab:red\", ls=\"--\", lw=2, label=\"Target: \" + str(gs_energy))\n",
    "# plt.legend()\n",
    "# plt.grid()\n",
    "# plt.show()"
   ]
  },
  {
   "cell_type": "markdown",
   "id": "1a924187-ad99-41ec-83f8-f8ac87a95750",
   "metadata": {},
   "source": [
    "## 3-3 Performance Score\n",
    "Compute the relative error between the expected ground state energy and the VQE result."
   ]
  },
  {
   "cell_type": "code",
   "execution_count": null,
   "id": "46ef4ecd-547f-43d0-b184-e7f82680f50d",
   "metadata": {},
   "outputs": [],
   "source": [
    "# # Compute the relative error between the expected ground state energy and the measured\n",
    "# computed_gse = intermediate_info_real_backend[-1]\n",
    "\n",
    "# print(f'Expected ground state energy: {gs_energy:.8f}')\n",
    "# print(f'Computed ground state energy: {computed_gse:.8f}')\n",
    "# print(f'Relative error: {100 * rel_err(gs_energy, computed_gse):.8f} %')"
   ]
  },
  {
   "cell_type": "markdown",
   "id": "355fe933-de34-4ce8-a6d8-11c00f6232f2",
   "metadata": {},
   "source": [
    "# Considerations\n",
    "Feeling stuck? Below are a list of questions and considerations to help spark new ideas for your VQE implementation.\n",
    "\n",
    "**Ansatz.** Carefully consult research literature for the best approach of ansatz selection. How might errors affect your ansatz? How many parameters are needed to reach the ground state? What properties of the Hamiltonian could help simplify the ansatz?\n",
    "\n",
    "**Classical optimizer.** What optimizer will pair well with for your choice of ansatz and measurement parameters? What noise do you expect from the quantum computer, and what noise sensitivity can the classical optimizer withstand? How many iterations will be needed?\n",
    "\n",
    "**Initial state/point.** Is there an initial quantum state that really helps things get going? What about a starting point for the circuit parameters? Does the VQE give the same results for different initial parameter values?\n",
    "\n",
    "**Number of measurements.** How does the number of shots affect the VQE's convergence to the ground state energy? The expectation value of the Hamiltonian is a sum of the expectation values of each of the 54 terms. What is the least number of circuit executions necessary to compute the expectation value of the Hamiltonian? What is the optimal number of circuit executions for stable convergence?\n",
    "\n",
    "**Many qubits.** Working with larger numbers of qubits is its own challenge. For example, what's a concise way of writing down or even visualizing the 4096 digit ground state? What methods and techniques will not scale well? What techniques would scale well if this VQE were to be done on a larger system? How can you reduce your execution time of the real device?\n",
    "\n",
    "**Error mitigation.** What errors are most prevalent, and how can you reduce them efficiently? What error mitigation techniques will scale well?"
   ]
  },
  {
   "cell_type": "code",
   "execution_count": null,
   "id": "10a0d2c6-091a-439c-864a-8d791a39eec9",
   "metadata": {},
   "outputs": [],
   "source": [
    "# import qiskit_ibm_runtime\n",
    "# qiskit_ibm_runtime.version.get_version_info()"
   ]
  },
  {
   "cell_type": "code",
   "execution_count": null,
   "id": "6044f597-1557-4a1a-8f00-d22ce4ff3a10",
   "metadata": {},
   "outputs": [],
   "source": [
    "# import qiskit.tools.jupyter\n",
    "# %qiskit_version_table"
   ]
  },
  {
   "cell_type": "code",
   "execution_count": null,
   "id": "9622dc7f-d16b-4235-a55e-a6dfb06def69",
   "metadata": {
    "tags": []
   },
   "outputs": [],
   "source": [
    "# from qiskit.providers.fake_provider import FakeProvider\n",
    "\n",
    "# fake_provider = FakeProvider()\n",
    "# fake_backends = fake_provider.backends()\n",
    "# print(fake_backends)\n"
   ]
  },
  {
   "cell_type": "code",
   "execution_count": null,
   "id": "e010656b-3d13-43aa-9e4d-9a28ff2ee03d",
   "metadata": {
    "tags": []
   },
   "outputs": [],
   "source": [
    "# from qiskit import IBMQ, Aer\n",
    "# provider = IBMQ.load_account()\n",
    "# fake_provider = FakeProvider()\n",
    "# available_cloud_backends = fake_provider.backends() \n",
    "# print('\\nHere is the list of cloud backends that are available to you:')\n",
    "# for i in available_cloud_backends: print(i)\n",
    "\n",
    "# available_local_backends = Aer.backends() \n",
    "# print('\\nHere is the list of local backends that are available to you: ')\n",
    "# for i in available_local_backends: print(i)"
   ]
  },
  {
   "cell_type": "code",
   "execution_count": null,
   "id": "5800d2c8-14b4-4c93-9ff8-5e971a0b6a6c",
   "metadata": {},
   "outputs": [],
   "source": []
  },
  {
   "cell_type": "code",
   "execution_count": null,
   "id": "388b7abd-d050-47cb-b6a5-7dab8b2d8ec9",
   "metadata": {},
   "outputs": [],
   "source": []
  }
 ],
 "metadata": {
  "kernelspec": {
   "display_name": "Python 3 (ipykernel)",
   "language": "python",
   "name": "python3"
  },
  "language_info": {
   "codemirror_mode": {
    "name": "ipython",
    "version": 3
   },
   "file_extension": ".py",
   "mimetype": "text/x-python",
   "name": "python",
   "nbconvert_exporter": "python",
   "pygments_lexer": "ipython3",
   "version": "3.8.15"
  },
  "widgets": {
   "application/vnd.jupyter.widget-state+json": {
    "state": {},
    "version_major": 2,
    "version_minor": 0
   }
  }
 },
 "nbformat": 4,
 "nbformat_minor": 5
}
